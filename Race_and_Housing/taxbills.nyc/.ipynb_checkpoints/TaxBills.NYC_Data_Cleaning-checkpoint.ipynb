{
 "cells": [
  {
   "cell_type": "markdown",
   "metadata": {},
   "source": [
    "Some code from the (abandoned) part of the Housing and Race project looking at data from [taxbills.nyc](http://taxbills.nyc/)"
   ]
  },
  {
   "cell_type": "code",
   "execution_count": 1,
   "metadata": {
    "ExecuteTime": {
     "end_time": "2020-02-17T21:57:31.228410Z",
     "start_time": "2020-02-17T21:57:30.915967Z"
    }
   },
   "outputs": [],
   "source": [
    "import pandas as pd\n",
    "import numpy as np"
   ]
  },
  {
   "cell_type": "code",
   "execution_count": 2,
   "metadata": {
    "ExecuteTime": {
     "end_time": "2020-02-17T21:57:31.532324Z",
     "start_time": "2020-02-17T21:57:31.259625Z"
    }
   },
   "outputs": [],
   "source": [
    "tax_df = pd.read_csv(\"taxbills_joined.csv\")"
   ]
  },
  {
   "cell_type": "code",
   "execution_count": 3,
   "metadata": {
    "ExecuteTime": {
     "end_time": "2020-02-17T21:57:32.195126Z",
     "start_time": "2020-02-17T21:57:32.160168Z"
    }
   },
   "outputs": [
    {
     "data": {
      "text/plain": [
       "46461"
      ]
     },
     "execution_count": 3,
     "metadata": {},
     "output_type": "execute_result"
    }
   ],
   "source": [
    "len(tax_df)"
   ]
  },
  {
   "cell_type": "code",
   "execution_count": 4,
   "metadata": {
    "ExecuteTime": {
     "end_time": "2020-02-17T21:57:54.124725Z",
     "start_time": "2020-02-17T21:57:54.074047Z"
    }
   },
   "outputs": [],
   "source": [
    "# Drop observations where the borough is \"NaN\"\n",
    "tax_df = tax_df[pd.notnull(tax_df[\"borough\"])]"
   ]
  },
  {
   "cell_type": "code",
   "execution_count": 5,
   "metadata": {
    "ExecuteTime": {
     "end_time": "2020-02-17T21:57:59.395309Z",
     "start_time": "2020-02-17T21:57:59.379979Z"
    }
   },
   "outputs": [
    {
     "data": {
      "text/plain": [
       "46120"
      ]
     },
     "execution_count": 5,
     "metadata": {},
     "output_type": "execute_result"
    }
   ],
   "source": [
    "len(tax_df)"
   ]
  },
  {
   "cell_type": "code",
   "execution_count": 6,
   "metadata": {
    "ExecuteTime": {
     "end_time": "2020-02-17T21:58:14.516654Z",
     "start_time": "2020-02-17T21:58:14.461801Z"
    }
   },
   "outputs": [
    {
     "data": {
      "text/plain": [
       "7"
      ]
     },
     "execution_count": 6,
     "metadata": {},
     "output_type": "execute_result"
    }
   ],
   "source": [
    "# First var of interest: ct2010 = census tract as of 2010\n",
    "tax_df.rename(columns={'ct2010': 'census_tract'}, inplace=True)\n",
    "# Let's make sure none are missing\n",
    "sum(np.isnan(tax_df[\"census_tract\"]))"
   ]
  },
  {
   "cell_type": "code",
   "execution_count": 7,
   "metadata": {
    "ExecuteTime": {
     "end_time": "2020-02-17T21:58:23.784406Z",
     "start_time": "2020-02-17T21:58:23.741548Z"
    }
   },
   "outputs": [
    {
     "data": {
      "text/plain": [
       "46113"
      ]
     },
     "execution_count": 7,
     "metadata": {},
     "output_type": "execute_result"
    }
   ],
   "source": [
    "# Ok, 7 missing. Let's drop em\n",
    "tax_df = tax_df[pd.notnull(tax_df[\"census_tract\"])]\n",
    "len(tax_df)"
   ]
  },
  {
   "cell_type": "code",
   "execution_count": 8,
   "metadata": {
    "ExecuteTime": {
     "end_time": "2020-02-17T21:58:37.310898Z",
     "start_time": "2020-02-17T21:58:37.295261Z"
    }
   },
   "outputs": [
    {
     "data": {
      "text/plain": [
       "BK    16487\n",
       "MN    15016\n",
       "QN     7750\n",
       "BX     6618\n",
       "SI      242\n",
       "Name: borough, dtype: int64"
      ]
     },
     "execution_count": 8,
     "metadata": {},
     "output_type": "execute_result"
    }
   ],
   "source": [
    "# How many observations do we have for each borough?\n",
    "tax_df[\"borough\"].value_counts()"
   ]
  },
  {
   "cell_type": "code",
   "execution_count": 9,
   "metadata": {
    "ExecuteTime": {
     "end_time": "2020-02-17T21:58:47.898928Z",
     "start_time": "2020-02-17T21:58:47.866632Z"
    }
   },
   "outputs": [],
   "source": [
    "# Cool now let's clean borough by making another var, \"county\", since we'll need that\n",
    "# to merge with the Data2Go datasets\n",
    "county_map = {'BK':'Kings','MN':'New York','QN':'Queens','BX':'Bronx','SI':'Richmond'}\n",
    "tax_df[\"county\"] = tax_df[\"borough\"].apply(lambda x: county_map[x])"
   ]
  },
  {
   "cell_type": "code",
   "execution_count": 10,
   "metadata": {
    "ExecuteTime": {
     "end_time": "2020-02-17T21:58:54.853557Z",
     "start_time": "2020-02-17T21:58:54.773425Z"
    }
   },
   "outputs": [],
   "source": [
    "# Now, just for easier reading, let's sort by county x tractnum\n",
    "tax_df = tax_df.sort_values(by=[\"county\",\"census_tract\"])"
   ]
  },
  {
   "cell_type": "code",
   "execution_count": 11,
   "metadata": {
    "ExecuteTime": {
     "end_time": "2020-02-17T21:59:05.970465Z",
     "start_time": "2020-02-17T21:59:05.954869Z"
    }
   },
   "outputs": [
    {
     "data": {
      "text/plain": [
       "7973            NaN\n",
       "33492           NaN\n",
       "7984            NaN\n",
       "5607            NaN\n",
       "5669            NaN\n",
       "            ...    \n",
       "19756          421a\n",
       "19757          421a\n",
       "19758           NaN\n",
       "19766           NaN\n",
       "45558    421a,scrie\n",
       "Name: 2010abat, Length: 46113, dtype: object"
      ]
     },
     "execution_count": 11,
     "metadata": {},
     "output_type": "execute_result"
    }
   ],
   "source": [
    "# Let's look at the tax abatement variable\n",
    "tax_df[\"2010abat\"]"
   ]
  },
  {
   "cell_type": "code",
   "execution_count": null,
   "metadata": {},
   "outputs": [],
   "source": []
  }
 ],
 "metadata": {
  "finalized": {
   "timestamp": 1581976531594,
   "trusted": true
  },
  "kernelspec": {
   "display_name": "Python 3",
   "language": "python",
   "name": "python3"
  },
  "language_info": {
   "codemirror_mode": {
    "name": "ipython",
    "version": 3
   },
   "file_extension": ".py",
   "mimetype": "text/x-python",
   "name": "python",
   "nbconvert_exporter": "python",
   "pygments_lexer": "ipython3",
   "version": "3.7.3"
  },
  "latex_envs": {
   "LaTeX_envs_menu_present": true,
   "autoclose": false,
   "autocomplete": true,
   "bibliofile": "biblio.bib",
   "cite_by": "apalike",
   "current_citInitial": 1,
   "eqLabelWithNumbers": true,
   "eqNumInitial": 1,
   "hotkeys": {
    "equation": "Ctrl-E",
    "itemize": "Ctrl-I"
   },
   "labels_anchors": false,
   "latex_user_defs": false,
   "report_style_numbering": false,
   "user_envs_cfg": false
  },
  "toc": {
   "base_numbering": 1,
   "nav_menu": {},
   "number_sections": true,
   "sideBar": true,
   "skip_h1_title": false,
   "title_cell": "Table of Contents",
   "title_sidebar": "Contents",
   "toc_cell": false,
   "toc_position": {},
   "toc_section_display": true,
   "toc_window_display": false
  },
  "varInspector": {
   "cols": {
    "lenName": 16,
    "lenType": 16,
    "lenVar": 40
   },
   "kernels_config": {
    "python": {
     "delete_cmd_postfix": "",
     "delete_cmd_prefix": "del ",
     "library": "var_list.py",
     "varRefreshCmd": "print(var_dic_list())"
    },
    "r": {
     "delete_cmd_postfix": ") ",
     "delete_cmd_prefix": "rm(",
     "library": "var_list.r",
     "varRefreshCmd": "cat(var_dic_list()) "
    }
   },
   "types_to_exclude": [
    "module",
    "function",
    "builtin_function_or_method",
    "instance",
    "_Feature"
   ],
   "window_display": false
  }
 },
 "nbformat": 4,
 "nbformat_minor": 4
}
