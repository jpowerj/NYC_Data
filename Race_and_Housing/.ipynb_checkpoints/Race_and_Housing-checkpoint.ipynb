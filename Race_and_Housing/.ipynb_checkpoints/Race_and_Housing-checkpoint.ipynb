{
 "cells": [
  {
   "cell_type": "markdown",
   "metadata": {},
   "source": [
    "# NYC Data Adventures, Vol. 2: Race and Property Taxes\n",
    "\n",
    "*Do neighborhood residents have higher/lower tax rates based on the racial demographics of their neighborhood?*\n",
    "\n",
    "by Jeff Jacobs, [jpj251@nyu.edu](mailto:jpj251@nyu.edu)"
   ]
  },
  {
   "cell_type": "markdown",
   "metadata": {},
   "source": [
    "It is not hard to find accounts -- whether from [tabloids](https://www.nydailynews.com/new-york/nyc-property-taxes-favor-rich-white-homeowners-suit-claims-article-1.3089889), [slightly-less-tabloidish news outlets](https://www.nytimes.com/2020/01/31/nyregion/property-tax-reform-nyc.html), [academic research institutes](https://www.citylab.com/equity/2015/05/why-billionaires-dont-pay-property-taxes-in-new-york/389886/), or [community advocacy groups](https://taxequitynow.nyc/maps_charts/issue-1-property-tax-system-discriminates-people-live-neighborhoods-majority-minority-residents/) -- of the massive inequities in NYC's property taxation practices. In this project we ask: **to what extent are these inequities related to *race*, as contrasted with (though importantly not *opposed* to) economic status**. These are highly-correlated variables, whether in NYC or across the country, so we'll have to be mindful throughout that whenever we analyze race we're also implicitly analyzing economic factors, and vice-versa."
   ]
  },
  {
   "cell_type": "markdown",
   "metadata": {},
   "source": [
    "For background, the most robust data-scientific studies of housing I've seen recently are (1) [\"Whither Rent Regulation?\"](http://blog.johnkrauss.com/where-is-decontrol/),  which analyzes (despite NYC's best efforts) the astonishing rates at which rent-controlled housing units are being converted to non-rent-controlled units, and (2) [\"Payer or Prayer- A Look at NYC's \\\\$650 Million Property Tax Breaks Related to Religion\"](https://iquantny.tumblr.com/post/146688053904/payer-or-prayer-a-look-at-nycs-650-million), which uses the data from the first article to instead analyze exactly who receives and doesn't receive property tax breaks. Although I spent a while analyzing the [more than 2GB of data](http://taxbills.nyc/) collected for the first article (documented [here](https://github.com/talos/nyc-stabilization-unit-counts#data-usage)), in the end I think it's still a bit too messy for our purposes, but feel free to explore!\n",
    "\n",
    "Instead, for this article, we'll be using a much simpler dataset of [Effective Tax Rates by neighborhood](https://cbcny.org/research/new-york-city-homeowners) which was compiled for a post on the blog of the [NYC Citizens Budget Commission](https://cbcny.org/). Since we want to analyze the relationship between these Effective Tax Rates and the racial demographics of NYC's various neighborhoods, we'll also need a demographics dataset, which we can obtain directly from NYC via their [Data2Go portal](https://data2go.nyc). In the navigation bar at the top of that page, you'll see a \"Download\" link, which will take you to [this Data Download Agreement form](https://ssrc.formstack.com/forms/moa_d2g). Once you fill that out, you will be brought to a page containing links to various .xlsx files. Although all of them are super interesting, for the purposes of this article you'll want to download the Fourth Edition Demographics dataset, which has the filename `Data2Go.NYC.4th.Edition.Demograpics.xlsx`. [Yes, it's `Demograpics` not `Demographics`. No, I did not create this file.]\n",
    "\n",
    "As we'll see below, these datasets are sadly not comparable as-is, since the Effective Tax Rate dataset is reported at the Neighborhood level whereas the Demographics data is reported at the Census Tract level. But all that means is it's the perfect opportunity to learn what a \"crosswalk\" dataset is! More on that later."
   ]
  },
  {
   "cell_type": "code",
   "execution_count": 2,
   "metadata": {
    "ExecuteTime": {
     "end_time": "2020-02-17T22:00:13.890503Z",
     "start_time": "2020-02-17T22:00:13.646480Z"
    }
   },
   "outputs": [],
   "source": [
    "import pandas as pd\n",
    "import numpy as np"
   ]
  },
  {
   "cell_type": "markdown",
   "metadata": {},
   "source": [
    "# Loading+Cleaning Data2Go Demographics Dataset"
   ]
  },
  {
   "cell_type": "code",
   "execution_count": 3,
   "metadata": {
    "ExecuteTime": {
     "end_time": "2020-02-17T22:00:17.821749Z",
     "start_time": "2020-02-17T22:00:14.957612Z"
    }
   },
   "outputs": [],
   "source": [
    "# NOTE: \"Demograpics\" is [sic].\n",
    "demo_df = pd.read_excel(\"Data2Go.NYC.4th.Edition.Demograpics.xlsx\", sheet_name=\"Tract\")"
   ]
  },
  {
   "cell_type": "markdown",
   "metadata": {
    "ExecuteTime": {
     "end_time": "2020-02-16T18:34:40.356202Z",
     "start_time": "2020-02-16T18:34:40.324697Z"
    }
   },
   "source": [
    "Some gross code to get the column headers..."
   ]
  },
  {
   "cell_type": "code",
   "execution_count": 4,
   "metadata": {
    "ExecuteTime": {
     "end_time": "2020-02-17T22:00:18.981958Z",
     "start_time": "2020-02-17T22:00:18.938183Z"
    }
   },
   "outputs": [],
   "source": [
    "# Columns at indices 2-4 are just all NaNs, so we're dropping them\n",
    "demo_df.drop(demo_df.columns[[2,3,4]], axis=1, inplace=True)\n",
    "# The header is kinda weird/bad for pandas, so we gotta do it this way\n",
    "geo_cols = list(demo_df.iloc[14,0:2])\n",
    "demo_cols = list(demo_df.iloc[8,2:])\n",
    "combined_cols = geo_cols + demo_cols\n",
    "demo_df.columns = combined_cols\n",
    "# And now we can drop all the header rows (0 through 15, inclusive)\n",
    "demo_df.drop(range(15), axis=0, inplace=True)"
   ]
  },
  {
   "cell_type": "code",
   "execution_count": 5,
   "metadata": {
    "ExecuteTime": {
     "end_time": "2020-02-17T22:00:19.719197Z",
     "start_time": "2020-02-17T22:00:19.709223Z"
    }
   },
   "outputs": [],
   "source": [
    "# Next, the things we want (census tract num and county) are stuck inside a string,\n",
    "# so let's extract them\n",
    "demo_df[\"census_tract\"] = demo_df[\"GEO_LABEL\"].apply(lambda x: x.split(\",\")[0].replace(\"Census Tract \",\"\").strip())\n",
    "demo_df[\"county\"] = demo_df[\"GEO_LABEL\"].apply(lambda x: x.split(\",\")[1].replace(\" County\",\"\").strip())"
   ]
  },
  {
   "cell_type": "code",
   "execution_count": 6,
   "metadata": {
    "ExecuteTime": {
     "end_time": "2020-02-17T22:00:22.794818Z",
     "start_time": "2020-02-17T22:00:22.760067Z"
    }
   },
   "outputs": [
    {
     "data": {
      "text/plain": [
       "Kings       761\n",
       "Queens      669\n",
       "Bronx       339\n",
       "New York    288\n",
       "Richmond    109\n",
       "Name: county, dtype: int64"
      ]
     },
     "execution_count": 6,
     "metadata": {},
     "output_type": "execute_result"
    }
   ],
   "source": [
    "demo_df[\"county\"].value_counts()"
   ]
  },
  {
   "cell_type": "markdown",
   "metadata": {},
   "source": [
    "For sanity purposes, I'm going to make a combined county-census tract variable, since census tract numbers are only unique *within* a given county"
   ]
  },
  {
   "cell_type": "code",
   "execution_count": 7,
   "metadata": {
    "ExecuteTime": {
     "end_time": "2020-02-17T22:00:25.604970Z",
     "start_time": "2020-02-17T22:00:25.556546Z"
    }
   },
   "outputs": [],
   "source": [
    "demo_df[\"county_tract\"] = demo_df[\"county\"].str.replace(\" \",\"_\") + \"_\" + demo_df[\"census_tract\"]"
   ]
  },
  {
   "cell_type": "markdown",
   "metadata": {},
   "source": [
    "Now let's keep only the vars we're going to be analyzing, for sanity purposes"
   ]
  },
  {
   "cell_type": "code",
   "execution_count": 8,
   "metadata": {
    "ExecuteTime": {
     "end_time": "2020-02-17T22:00:26.535593Z",
     "start_time": "2020-02-17T22:00:26.504320Z"
    }
   },
   "outputs": [],
   "source": [
    "vars_to_keep = [\"census_tract\", \"county\", \"county_tract\", \"black_pop_tract\",\n",
    "                \"aframer_total_pop_tract\", \"age_pyramid_total_tract\"]\n",
    "demo_df = demo_df[vars_to_keep].copy()\n",
    "# Also rename the vars to make them easier to understand...\n",
    "demo_df.rename(columns={'black_pop_tract': 'black_pop_pct',\n",
    "                        'aframer_total_pop_tract': 'black_pop_total',\n",
    "                        'age_pyramid_total_tract': 'pop_total'}, inplace=True)"
   ]
  },
  {
   "cell_type": "code",
   "execution_count": 9,
   "metadata": {
    "ExecuteTime": {
     "end_time": "2020-02-17T22:00:28.055042Z",
     "start_time": "2020-02-17T22:00:28.033252Z"
    }
   },
   "outputs": [
    {
     "data": {
      "text/html": [
       "<div>\n",
       "<style scoped>\n",
       "    .dataframe tbody tr th:only-of-type {\n",
       "        vertical-align: middle;\n",
       "    }\n",
       "\n",
       "    .dataframe tbody tr th {\n",
       "        vertical-align: top;\n",
       "    }\n",
       "\n",
       "    .dataframe thead th {\n",
       "        text-align: right;\n",
       "    }\n",
       "</style>\n",
       "<table border=\"1\" class=\"dataframe\">\n",
       "  <thead>\n",
       "    <tr style=\"text-align: right;\">\n",
       "      <th></th>\n",
       "      <th>census_tract</th>\n",
       "      <th>county</th>\n",
       "      <th>county_tract</th>\n",
       "      <th>black_pop_pct</th>\n",
       "      <th>black_pop_total</th>\n",
       "      <th>pop_total</th>\n",
       "    </tr>\n",
       "  </thead>\n",
       "  <tbody>\n",
       "    <tr>\n",
       "      <th>15</th>\n",
       "      <td>1</td>\n",
       "      <td>Bronx</td>\n",
       "      <td>Bronx_1</td>\n",
       "      <td>57.5766</td>\n",
       "      <td>4267</td>\n",
       "      <td>7411</td>\n",
       "    </tr>\n",
       "    <tr>\n",
       "      <th>16</th>\n",
       "      <td>2</td>\n",
       "      <td>Bronx</td>\n",
       "      <td>Bronx_2</td>\n",
       "      <td>18.446</td>\n",
       "      <td>933</td>\n",
       "      <td>5058</td>\n",
       "    </tr>\n",
       "    <tr>\n",
       "      <th>17</th>\n",
       "      <td>4</td>\n",
       "      <td>Bronx</td>\n",
       "      <td>Bronx_4</td>\n",
       "      <td>28.6171</td>\n",
       "      <td>1701</td>\n",
       "      <td>5944</td>\n",
       "    </tr>\n",
       "    <tr>\n",
       "      <th>18</th>\n",
       "      <td>16</td>\n",
       "      <td>Bronx</td>\n",
       "      <td>Bronx_16</td>\n",
       "      <td>31.0548</td>\n",
       "      <td>1899</td>\n",
       "      <td>6115</td>\n",
       "    </tr>\n",
       "    <tr>\n",
       "      <th>19</th>\n",
       "      <td>19</td>\n",
       "      <td>Bronx</td>\n",
       "      <td>Bronx_19</td>\n",
       "      <td>33.0848</td>\n",
       "      <td>932</td>\n",
       "      <td>2817</td>\n",
       "    </tr>\n",
       "  </tbody>\n",
       "</table>\n",
       "</div>"
      ],
      "text/plain": [
       "   census_tract county county_tract black_pop_pct black_pop_total pop_total\n",
       "15            1  Bronx      Bronx_1       57.5766            4267      7411\n",
       "16            2  Bronx      Bronx_2        18.446             933      5058\n",
       "17            4  Bronx      Bronx_4       28.6171            1701      5944\n",
       "18           16  Bronx     Bronx_16       31.0548            1899      6115\n",
       "19           19  Bronx     Bronx_19       33.0848             932      2817"
      ]
     },
     "execution_count": 9,
     "metadata": {},
     "output_type": "execute_result"
    }
   ],
   "source": [
    "demo_df.head()"
   ]
  },
  {
   "cell_type": "markdown",
   "metadata": {},
   "source": [
    "But sadly it turns out that Pandas interpreted all the numeric variables (`black_pop_tract`, `aframer_total_pop_tract`, `age_pyramid_total_tract` as string vars rather than numeric, so we need to manually convert them [Note: the error you're about to see is there on purpose -- as an example of the types of hiccups that can occur in the midst of a data science project, and how to address them]"
   ]
  },
  {
   "cell_type": "code",
   "execution_count": 11,
   "metadata": {
    "ExecuteTime": {
     "end_time": "2020-02-17T22:02:18.059441Z",
     "start_time": "2020-02-17T22:02:18.021716Z"
    }
   },
   "outputs": [
    {
     "ename": "ValueError",
     "evalue": "Unable to parse string \"Black or African American non-Latino population\" at position 101",
     "output_type": "error",
     "traceback": [
      "\u001b[1;31m---------------------------------------------------------------------------\u001b[0m",
      "\u001b[1;31mValueError\u001b[0m                                Traceback (most recent call last)",
      "\u001b[1;32mpandas\\_libs\\lib.pyx\u001b[0m in \u001b[0;36mpandas._libs.lib.maybe_convert_numeric\u001b[1;34m()\u001b[0m\n",
      "\u001b[1;31mValueError\u001b[0m: Unable to parse string \"Black or African American non-Latino population\"",
      "\nDuring handling of the above exception, another exception occurred:\n",
      "\u001b[1;31mValueError\u001b[0m                                Traceback (most recent call last)",
      "\u001b[1;32m<ipython-input-11-431ed96fc1bb>\u001b[0m in \u001b[0;36m<module>\u001b[1;34m\u001b[0m\n\u001b[0;32m      1\u001b[0m \u001b[0mdemo_df\u001b[0m\u001b[1;33m[\u001b[0m\u001b[1;34m\"black_pop_pct\"\u001b[0m\u001b[1;33m]\u001b[0m \u001b[1;33m=\u001b[0m \u001b[0mpd\u001b[0m\u001b[1;33m.\u001b[0m\u001b[0mto_numeric\u001b[0m\u001b[1;33m(\u001b[0m\u001b[0mdemo_df\u001b[0m\u001b[1;33m[\u001b[0m\u001b[1;34m\"black_pop_pct\"\u001b[0m\u001b[1;33m]\u001b[0m\u001b[1;33m)\u001b[0m\u001b[1;33m\u001b[0m\u001b[1;33m\u001b[0m\u001b[0m\n\u001b[1;32m----> 2\u001b[1;33m \u001b[0mdemo_df\u001b[0m\u001b[1;33m[\u001b[0m\u001b[1;34m\"black_pop_total\"\u001b[0m\u001b[1;33m]\u001b[0m \u001b[1;33m=\u001b[0m \u001b[0mpd\u001b[0m\u001b[1;33m.\u001b[0m\u001b[0mto_numeric\u001b[0m\u001b[1;33m(\u001b[0m\u001b[0mdemo_df\u001b[0m\u001b[1;33m[\u001b[0m\u001b[1;34m\"black_pop_total\"\u001b[0m\u001b[1;33m]\u001b[0m\u001b[1;33m)\u001b[0m\u001b[1;33m\u001b[0m\u001b[1;33m\u001b[0m\u001b[0m\n\u001b[0m\u001b[0;32m      3\u001b[0m \u001b[0mdemo_df\u001b[0m\u001b[1;33m[\u001b[0m\u001b[1;34m\"pop_total\"\u001b[0m\u001b[1;33m]\u001b[0m \u001b[1;33m=\u001b[0m \u001b[0mpd\u001b[0m\u001b[1;33m.\u001b[0m\u001b[0mto_numeric\u001b[0m\u001b[1;33m(\u001b[0m\u001b[0mdemo_df\u001b[0m\u001b[1;33m[\u001b[0m\u001b[1;34m\"pop_total\"\u001b[0m\u001b[1;33m]\u001b[0m\u001b[1;33m)\u001b[0m\u001b[1;33m\u001b[0m\u001b[1;33m\u001b[0m\u001b[0m\n",
      "\u001b[1;32m~\\Anaconda3\\lib\\site-packages\\pandas\\core\\tools\\numeric.py\u001b[0m in \u001b[0;36mto_numeric\u001b[1;34m(arg, errors, downcast)\u001b[0m\n\u001b[0;32m    148\u001b[0m         \u001b[1;32mtry\u001b[0m\u001b[1;33m:\u001b[0m\u001b[1;33m\u001b[0m\u001b[1;33m\u001b[0m\u001b[0m\n\u001b[0;32m    149\u001b[0m             values = lib.maybe_convert_numeric(\n\u001b[1;32m--> 150\u001b[1;33m                 \u001b[0mvalues\u001b[0m\u001b[1;33m,\u001b[0m \u001b[0mset\u001b[0m\u001b[1;33m(\u001b[0m\u001b[1;33m)\u001b[0m\u001b[1;33m,\u001b[0m \u001b[0mcoerce_numeric\u001b[0m\u001b[1;33m=\u001b[0m\u001b[0mcoerce_numeric\u001b[0m\u001b[1;33m\u001b[0m\u001b[1;33m\u001b[0m\u001b[0m\n\u001b[0m\u001b[0;32m    151\u001b[0m             )\n\u001b[0;32m    152\u001b[0m         \u001b[1;32mexcept\u001b[0m \u001b[1;33m(\u001b[0m\u001b[0mValueError\u001b[0m\u001b[1;33m,\u001b[0m \u001b[0mTypeError\u001b[0m\u001b[1;33m)\u001b[0m\u001b[1;33m:\u001b[0m\u001b[1;33m\u001b[0m\u001b[1;33m\u001b[0m\u001b[0m\n",
      "\u001b[1;32mpandas\\_libs\\lib.pyx\u001b[0m in \u001b[0;36mpandas._libs.lib.maybe_convert_numeric\u001b[1;34m()\u001b[0m\n",
      "\u001b[1;31mValueError\u001b[0m: Unable to parse string \"Black or African American non-Latino population\" at position 101"
     ]
    }
   ],
   "source": [
    "demo_df[\"black_pop_pct\"] = pd.to_numeric(demo_df[\"black_pop_pct\"])\n",
    "demo_df[\"black_pop_total\"] = pd.to_numeric(demo_df[\"black_pop_total\"])\n",
    "demo_df[\"pop_total\"] = pd.to_numeric(demo_df[\"pop_total\"])"
   ]
  },
  {
   "cell_type": "markdown",
   "metadata": {},
   "source": [
    "As often happens with open datasets, this error indicates that one of the rows (at position 101) has `\"Black or African American non-Latino population\"` as its value instead of the actual numeric population itself\n",
    "\n",
    "[here we use Pandas' `iloc[]` function to get a particular row by its numeric position in the DataFrame -- e.g, `iloc[0]` would get the very first row, `iloc[1]` the second row, and so on]"
   ]
  },
  {
   "cell_type": "code",
   "execution_count": 13,
   "metadata": {
    "ExecuteTime": {
     "end_time": "2020-02-17T22:03:35.419539Z",
     "start_time": "2020-02-17T22:03:35.379142Z"
    }
   },
   "outputs": [
    {
     "data": {
      "text/plain": [
       "census_tract                                                   167\n",
       "county                                                       Bronx\n",
       "county_tract                                             Bronx_167\n",
       "black_pop_pct                                              41.4806\n",
       "black_pop_total    Black or African American non-Latino population\n",
       "pop_total                                                     3269\n",
       "Name: 116, dtype: object"
      ]
     },
     "execution_count": 13,
     "metadata": {},
     "output_type": "execute_result"
    }
   ],
   "source": [
    "demo_df.iloc[101]"
   ]
  },
  {
   "cell_type": "markdown",
   "metadata": {},
   "source": [
    "So, for this one case, we will manually compute the population by multiplying the population total by the black percentage, and rounding so that we don't accidentally record a fraction of a person..."
   ]
  },
  {
   "cell_type": "code",
   "execution_count": 15,
   "metadata": {
    "ExecuteTime": {
     "end_time": "2020-02-17T22:04:38.682775Z",
     "start_time": "2020-02-17T22:04:38.667522Z"
    }
   },
   "outputs": [
    {
     "name": "stdout",
     "output_type": "stream",
     "text": [
      "3269\n",
      "41.4805751\n"
     ]
    },
    {
     "data": {
      "text/plain": [
       "census_tract             167\n",
       "county                 Bronx\n",
       "county_tract       Bronx_167\n",
       "black_pop_pct        41.4806\n",
       "black_pop_total         1356\n",
       "pop_total               3269\n",
       "Name: 116, dtype: object"
      ]
     },
     "execution_count": 15,
     "metadata": {},
     "output_type": "execute_result"
    }
   ],
   "source": [
    "total_101 = demo_df.iloc[101].loc[\"pop_total\"]\n",
    "print(total_101)\n",
    "black_pct_101 = demo_df.iloc[101].loc[\"black_pop_pct\"]\n",
    "print(black_pct_101)\n",
    "# So now set the black_pop_total value manually based on these values\n",
    "demo_df.iat[101, demo_df.columns.get_loc(\"black_pop_total\")] = round(total_101*(black_pct_101/100))\n",
    "demo_df.iloc[101]"
   ]
  },
  {
   "cell_type": "markdown",
   "metadata": {},
   "source": [
    "Now it should let us convert that column to numeric"
   ]
  },
  {
   "cell_type": "code",
   "execution_count": 16,
   "metadata": {
    "ExecuteTime": {
     "end_time": "2020-02-17T22:04:42.736777Z",
     "start_time": "2020-02-17T22:04:42.721157Z"
    }
   },
   "outputs": [],
   "source": [
    "demo_df[\"black_pop_pct\"] = pd.to_numeric(demo_df[\"black_pop_pct\"])\n",
    "demo_df[\"black_pop_total\"] = pd.to_numeric(demo_df[\"black_pop_total\"])\n",
    "demo_df[\"pop_total\"] = pd.to_numeric(demo_df[\"pop_total\"])"
   ]
  },
  {
   "cell_type": "markdown",
   "metadata": {},
   "source": [
    "Great. Before we move on to loading and cleaning the Effective Tax Rate dataset, note that you can always view the types of all variables in a DataFrame via the `dtypes` variable (note that it is *not* a function, so you just type `dtypes` not `dtypes()`):"
   ]
  },
  {
   "cell_type": "code",
   "execution_count": 19,
   "metadata": {
    "ExecuteTime": {
     "end_time": "2020-02-17T22:06:18.880518Z",
     "start_time": "2020-02-17T22:06:18.853035Z"
    }
   },
   "outputs": [
    {
     "data": {
      "text/plain": [
       "census_tract        object\n",
       "county              object\n",
       "county_tract        object\n",
       "black_pop_pct      float64\n",
       "black_pop_total      int64\n",
       "pop_total            int64\n",
       "dtype: object"
      ]
     },
     "execution_count": 19,
     "metadata": {},
     "output_type": "execute_result"
    }
   ],
   "source": [
    "demo_df.dtypes"
   ]
  },
  {
   "cell_type": "markdown",
   "metadata": {},
   "source": [
    "# Effective Tax Rate dataset"
   ]
  },
  {
   "cell_type": "markdown",
   "metadata": {},
   "source": [
    "To obtain this .csv I just downloaded the table at the bottom of the article linked at the top, https://cbcny.org/research/new-york-city-homeowners, and then renamed it to \"Effective_Tax_Rates.csv\" and moved it into the same folder as this .ipynb notebook"
   ]
  },
  {
   "cell_type": "code",
   "execution_count": 21,
   "metadata": {
    "ExecuteTime": {
     "end_time": "2020-02-17T22:07:31.228217Z",
     "start_time": "2020-02-17T22:07:31.212434Z"
    }
   },
   "outputs": [],
   "source": [
    "etr_df = pd.read_csv(\"Effective_Tax_Rates.csv\")"
   ]
  },
  {
   "cell_type": "markdown",
   "metadata": {},
   "source": [
    "The column names are a bit verbose, and have spaces in them which is a no-no in some data analysis software, so let's fix that by renaming:"
   ]
  },
  {
   "cell_type": "code",
   "execution_count": 22,
   "metadata": {
    "ExecuteTime": {
     "end_time": "2020-02-17T22:08:16.159698Z",
     "start_time": "2020-02-17T22:08:16.128454Z"
    }
   },
   "outputs": [
    {
     "data": {
      "text/html": [
       "<div>\n",
       "<style scoped>\n",
       "    .dataframe tbody tr th:only-of-type {\n",
       "        vertical-align: middle;\n",
       "    }\n",
       "\n",
       "    .dataframe tbody tr th {\n",
       "        vertical-align: top;\n",
       "    }\n",
       "\n",
       "    .dataframe thead th {\n",
       "        text-align: right;\n",
       "    }\n",
       "</style>\n",
       "<table border=\"1\" class=\"dataframe\">\n",
       "  <thead>\n",
       "    <tr style=\"text-align: right;\">\n",
       "      <th></th>\n",
       "      <th>borough</th>\n",
       "      <th>median_ar</th>\n",
       "      <th>median_etr</th>\n",
       "      <th>median_mv</th>\n",
       "      <th>nhood_name</th>\n",
       "      <th>nta_code</th>\n",
       "    </tr>\n",
       "  </thead>\n",
       "  <tbody>\n",
       "    <tr>\n",
       "      <th>0</th>\n",
       "      <td>Brooklyn</td>\n",
       "      <td>1.93%</td>\n",
       "      <td>0.42%</td>\n",
       "      <td>$5,621,000</td>\n",
       "      <td>Brooklyn Heights, Cobble Hill</td>\n",
       "      <td>BK09</td>\n",
       "    </tr>\n",
       "    <tr>\n",
       "      <th>1</th>\n",
       "      <td>Brooklyn</td>\n",
       "      <td>4.03%</td>\n",
       "      <td>0.84%</td>\n",
       "      <td>$772,000</td>\n",
       "      <td>Sheepshead Bay, Gerritsen Beach, Manhattan Beach</td>\n",
       "      <td>BK17</td>\n",
       "    </tr>\n",
       "    <tr>\n",
       "      <th>2</th>\n",
       "      <td>Brooklyn</td>\n",
       "      <td>3.83%</td>\n",
       "      <td>0.80%</td>\n",
       "      <td>$768,500</td>\n",
       "      <td>Brighton Beach</td>\n",
       "      <td>BK19</td>\n",
       "    </tr>\n",
       "    <tr>\n",
       "      <th>3</th>\n",
       "      <td>Brooklyn</td>\n",
       "      <td>4.22%</td>\n",
       "      <td>0.86%</td>\n",
       "      <td>$535,000</td>\n",
       "      <td>Seagate, Coney Island</td>\n",
       "      <td>BK21</td>\n",
       "    </tr>\n",
       "    <tr>\n",
       "      <th>4</th>\n",
       "      <td>Brooklyn</td>\n",
       "      <td>3.14%</td>\n",
       "      <td>0.65%</td>\n",
       "      <td>$1,188,000</td>\n",
       "      <td>Homecrest</td>\n",
       "      <td>BK25</td>\n",
       "    </tr>\n",
       "  </tbody>\n",
       "</table>\n",
       "</div>"
      ],
      "text/plain": [
       "    borough median_ar median_etr   median_mv  \\\n",
       "0  Brooklyn     1.93%      0.42%  $5,621,000   \n",
       "1  Brooklyn     4.03%      0.84%    $772,000   \n",
       "2  Brooklyn     3.83%      0.80%    $768,500   \n",
       "3  Brooklyn     4.22%      0.86%    $535,000   \n",
       "4  Brooklyn     3.14%      0.65%  $1,188,000   \n",
       "\n",
       "                                         nhood_name nta_code  \n",
       "0                     Brooklyn Heights, Cobble Hill     BK09  \n",
       "1  Sheepshead Bay, Gerritsen Beach, Manhattan Beach     BK17  \n",
       "2                                    Brighton Beach     BK19  \n",
       "3                             Seagate, Coney Island     BK21  \n",
       "4                                         Homecrest     BK25  "
      ]
     },
     "execution_count": 22,
     "metadata": {},
     "output_type": "execute_result"
    }
   ],
   "source": [
    "etr_df.rename(columns={'Neighborhood Tabulation Area Code':'nta_code',\n",
    "                       'Borough': 'borough',\n",
    "                       'Median Assessment Ratio': 'median_ar',\n",
    "                       'Median Effective Tax Rate': 'median_etr',\n",
    "                       'Neighborhood Name': 'nhood_name',\n",
    "                       'Median Market Value': 'median_mv'}, inplace=True)\n",
    "# \"Number of Records\" is always 1 so we can just drop it\n",
    "etr_df.drop(columns=\"Number of Records\", inplace=True)\n",
    "etr_df.head()"
   ]
  },
  {
   "cell_type": "markdown",
   "metadata": {},
   "source": [
    "Next, although they are nice and human-readable right now, let's convert the numeric variables `median_ar`, `median_etr`, and `median_mv` into actual Pandas-recognized numeric format, by getting rid of all dollar signs, commas, and percent signs, then converting from string to int:"
   ]
  },
  {
   "cell_type": "code",
   "execution_count": 24,
   "metadata": {
    "ExecuteTime": {
     "end_time": "2020-02-17T22:11:09.211303Z",
     "start_time": "2020-02-17T22:11:09.195714Z"
    }
   },
   "outputs": [],
   "source": [
    "etr_df[\"median_etr\"] = pd.to_numeric(etr_df[\"median_etr\"].str.replace(\"%\",\"\"))\n",
    "etr_df[\"median_ar\"] = pd.to_numeric(etr_df[\"median_ar\"].str.replace(\"%\",\"\"))\n",
    "etr_df[\"median_mv\"] = pd.to_numeric(etr_df[\"median_mv\"].str.replace(\"$\",\"\").str.replace(\",\",\"\"))"
   ]
  },
  {
   "cell_type": "code",
   "execution_count": 26,
   "metadata": {
    "ExecuteTime": {
     "end_time": "2020-02-17T22:11:18.727541Z",
     "start_time": "2020-02-17T22:11:18.712405Z"
    }
   },
   "outputs": [
    {
     "data": {
      "text/plain": [
       "borough        object\n",
       "median_ar     float64\n",
       "median_etr    float64\n",
       "median_mv       int64\n",
       "nhood_name     object\n",
       "nta_code       object\n",
       "dtype: object"
      ]
     },
     "execution_count": 26,
     "metadata": {},
     "output_type": "execute_result"
    }
   ],
   "source": [
    "etr_df.dtypes"
   ]
  },
  {
   "cell_type": "markdown",
   "metadata": {},
   "source": [
    "Now, as mentioned in the beginning, we've run into the issue of our two datasets representing two different levels of analysis."
   ]
  },
  {
   "cell_type": "markdown",
   "metadata": {},
   "source": [
    "# Census Tract $\\leftrightarrow$ Neighborhood Crosswalk"
   ]
  },
  {
   "cell_type": "markdown",
   "metadata": {},
   "source": [
    "https://data.cityofnewyork.us/City-Government/2010-Census-Tract-to-Neighborhood-Tabulation-Area-/8ius-dhrr"
   ]
  },
  {
   "cell_type": "code",
   "execution_count": 139,
   "metadata": {
    "ExecuteTime": {
     "end_time": "2020-02-16T18:39:29.538478Z",
     "start_time": "2020-02-16T18:39:29.507401Z"
    }
   },
   "outputs": [],
   "source": [
    "tract_nhood_df = pd.read_csv(\"2010_Census_Tract_to_Neighborhood_Tabulation_Area_Equivalency_table.csv\")"
   ]
  },
  {
   "cell_type": "code",
   "execution_count": 140,
   "metadata": {
    "ExecuteTime": {
     "end_time": "2020-02-16T18:39:29.975829Z",
     "start_time": "2020-02-16T18:39:29.960246Z"
    }
   },
   "outputs": [],
   "source": [
    "tract_nhood_df.rename(columns={'Borough':'borough',\n",
    "                               '2010 Census Tract': 'census_tract_num',\n",
    "                               '2010 Census Bureau FIPS County Code': 'fips',\n",
    "                               '2010 NYC Borough Code': 'bcode',\n",
    "                               'PUMA': 'puma',\n",
    "                               'Neighborhood Tabulation Area (NTA)Code': 'nta_code',\n",
    "                               'Neighborhood Tabulation Area (NTA) Name': 'nta_name'},\n",
    "                      inplace=True)"
   ]
  },
  {
   "cell_type": "code",
   "execution_count": 141,
   "metadata": {
    "ExecuteTime": {
     "end_time": "2020-02-16T18:39:30.366452Z",
     "start_time": "2020-02-16T18:39:30.350813Z"
    }
   },
   "outputs": [],
   "source": [
    "# Drop the vars we don't need\n",
    "tract_nhood_df.drop(columns=[\"fips\",\"bcode\",\"puma\"], inplace=True)"
   ]
  },
  {
   "cell_type": "markdown",
   "metadata": {},
   "source": [
    "After looking at it for a while, here's how the census_tract var works: the last 2 digits are always the \"sub-tract\" number (e.g., the \"03\" in \"27.03\", which is \"00\" if there are no sub-tracts for that tract (e.g., if the tract is just \"33\" and there's no \"33.01\", \"33.02\", ...). Then the digits before the last 2 (there can be 1, 2, or 3 digits before the final 2) are the tract number. So I'll convert the number to a string and parse the last 2 digits separately from the beginning digits."
   ]
  },
  {
   "cell_type": "code",
   "execution_count": 142,
   "metadata": {
    "ExecuteTime": {
     "end_time": "2020-02-16T18:39:31.711044Z",
     "start_time": "2020-02-16T18:39:31.679892Z"
    }
   },
   "outputs": [],
   "source": [
    "def format_tract(tract_numeric):\n",
    "    tract_str = str(tract_numeric)\n",
    "    sub_tract = tract_str[-2:]\n",
    "    tract = tract_str[0:-2]\n",
    "    if sub_tract == \"00\":\n",
    "        return tract\n",
    "    else:\n",
    "        return tract + \".\" + sub_tract\n",
    "\n",
    "tract_nhood_df[\"census_tract\"] = tract_nhood_df[\"census_tract_num\"].apply(format_tract)\n",
    "# And now we don't need census_tract_num anymore (and it will confuse me if we keep it tbh)\n",
    "tract_nhood_df.drop(columns=\"census_tract_num\", inplace=True)"
   ]
  },
  {
   "cell_type": "code",
   "execution_count": 143,
   "metadata": {
    "ExecuteTime": {
     "end_time": "2020-02-16T18:39:32.148481Z",
     "start_time": "2020-02-16T18:39:32.132820Z"
    }
   },
   "outputs": [],
   "source": [
    "boro_to_county = {'Staten Island': 'Richmond', 'Bronx': 'Bronx', 'Manhattan': 'New_York',\n",
    "                  'Queens': 'Queens', 'Brooklyn': 'Kings'}\n",
    "tract_nhood_df[\"county\"] = tract_nhood_df[\"borough\"].apply(lambda x: boro_to_county[x])\n",
    "# And now we don't need borough anymore\n",
    "tract_nhood_df.drop(columns=\"borough\", inplace=True)"
   ]
  },
  {
   "cell_type": "code",
   "execution_count": 144,
   "metadata": {
    "ExecuteTime": {
     "end_time": "2020-02-16T18:39:32.539363Z",
     "start_time": "2020-02-16T18:39:32.523740Z"
    }
   },
   "outputs": [],
   "source": [
    "tract_nhood_df[\"county_tract\"] = tract_nhood_df[\"county\"] + \"_\" + tract_nhood_df[\"census_tract\"]"
   ]
  },
  {
   "cell_type": "code",
   "execution_count": 145,
   "metadata": {
    "ExecuteTime": {
     "end_time": "2020-02-16T18:39:32.929981Z",
     "start_time": "2020-02-16T18:39:32.914362Z"
    }
   },
   "outputs": [],
   "source": [
    "# For readability, sort by \n",
    "tract_nhood_df.sort_values(by=[\"county_tract\"], inplace=True)"
   ]
  },
  {
   "cell_type": "code",
   "execution_count": 146,
   "metadata": {
    "ExecuteTime": {
     "end_time": "2020-02-16T18:39:33.351716Z",
     "start_time": "2020-02-16T18:39:33.304804Z"
    }
   },
   "outputs": [
    {
     "data": {
      "text/html": [
       "<div>\n",
       "<style scoped>\n",
       "    .dataframe tbody tr th:only-of-type {\n",
       "        vertical-align: middle;\n",
       "    }\n",
       "\n",
       "    .dataframe tbody tr th {\n",
       "        vertical-align: top;\n",
       "    }\n",
       "\n",
       "    .dataframe thead th {\n",
       "        text-align: right;\n",
       "    }\n",
       "</style>\n",
       "<table border=\"1\" class=\"dataframe\">\n",
       "  <thead>\n",
       "    <tr style=\"text-align: right;\">\n",
       "      <th></th>\n",
       "      <th>nta_code</th>\n",
       "      <th>nta_name</th>\n",
       "      <th>census_tract</th>\n",
       "      <th>county</th>\n",
       "      <th>county_tract</th>\n",
       "    </tr>\n",
       "  </thead>\n",
       "  <tbody>\n",
       "    <tr>\n",
       "      <th>2114</th>\n",
       "      <td>SI05</td>\n",
       "      <td>New Springville-Bloomfield-Travis</td>\n",
       "      <td>291.04</td>\n",
       "      <td>Richmond</td>\n",
       "      <td>Richmond_291.04</td>\n",
       "    </tr>\n",
       "    <tr>\n",
       "      <th>2149</th>\n",
       "      <td>SI22</td>\n",
       "      <td>West New Brighton-New Brighton-St. George</td>\n",
       "      <td>3</td>\n",
       "      <td>Richmond</td>\n",
       "      <td>Richmond_3</td>\n",
       "    </tr>\n",
       "    <tr>\n",
       "      <th>2091</th>\n",
       "      <td>SI12</td>\n",
       "      <td>Mariner's Harbor-Arlington-Port Ivory-Granitev...</td>\n",
       "      <td>303.01</td>\n",
       "      <td>Richmond</td>\n",
       "      <td>Richmond_303.01</td>\n",
       "    </tr>\n",
       "    <tr>\n",
       "      <th>2092</th>\n",
       "      <td>SI12</td>\n",
       "      <td>Mariner's Harbor-Arlington-Port Ivory-Granitev...</td>\n",
       "      <td>303.02</td>\n",
       "      <td>Richmond</td>\n",
       "      <td>Richmond_303.02</td>\n",
       "    </tr>\n",
       "    <tr>\n",
       "      <th>2093</th>\n",
       "      <td>SI12</td>\n",
       "      <td>Mariner's Harbor-Arlington-Port Ivory-Granitev...</td>\n",
       "      <td>319.01</td>\n",
       "      <td>Richmond</td>\n",
       "      <td>Richmond_319.01</td>\n",
       "    </tr>\n",
       "    <tr>\n",
       "      <th>2094</th>\n",
       "      <td>SI12</td>\n",
       "      <td>Mariner's Harbor-Arlington-Port Ivory-Granitev...</td>\n",
       "      <td>319.02</td>\n",
       "      <td>Richmond</td>\n",
       "      <td>Richmond_319.02</td>\n",
       "    </tr>\n",
       "    <tr>\n",
       "      <th>2095</th>\n",
       "      <td>SI12</td>\n",
       "      <td>Mariner's Harbor-Arlington-Port Ivory-Granitev...</td>\n",
       "      <td>323</td>\n",
       "      <td>Richmond</td>\n",
       "      <td>Richmond_323</td>\n",
       "    </tr>\n",
       "    <tr>\n",
       "      <th>2084</th>\n",
       "      <td>SI08</td>\n",
       "      <td>Grymes Hill-Clifton-Fox Hills</td>\n",
       "      <td>33</td>\n",
       "      <td>Richmond</td>\n",
       "      <td>Richmond_33</td>\n",
       "    </tr>\n",
       "    <tr>\n",
       "      <th>2141</th>\n",
       "      <td>SI37</td>\n",
       "      <td>Stapleton-Rosebank</td>\n",
       "      <td>36</td>\n",
       "      <td>Richmond</td>\n",
       "      <td>Richmond_36</td>\n",
       "    </tr>\n",
       "    <tr>\n",
       "      <th>2085</th>\n",
       "      <td>SI08</td>\n",
       "      <td>Grymes Hill-Clifton-Fox Hills</td>\n",
       "      <td>39</td>\n",
       "      <td>Richmond</td>\n",
       "      <td>Richmond_39</td>\n",
       "    </tr>\n",
       "    <tr>\n",
       "      <th>2086</th>\n",
       "      <td>SI08</td>\n",
       "      <td>Grymes Hill-Clifton-Fox Hills</td>\n",
       "      <td>40</td>\n",
       "      <td>Richmond</td>\n",
       "      <td>Richmond_40</td>\n",
       "    </tr>\n",
       "    <tr>\n",
       "      <th>2087</th>\n",
       "      <td>SI08</td>\n",
       "      <td>Grymes Hill-Clifton-Fox Hills</td>\n",
       "      <td>47</td>\n",
       "      <td>Richmond</td>\n",
       "      <td>Richmond_47</td>\n",
       "    </tr>\n",
       "    <tr>\n",
       "      <th>2073</th>\n",
       "      <td>SI14</td>\n",
       "      <td>Grasmere-Arrochar-Ft. Wadsworth</td>\n",
       "      <td>50</td>\n",
       "      <td>Richmond</td>\n",
       "      <td>Richmond_50</td>\n",
       "    </tr>\n",
       "    <tr>\n",
       "      <th>2096</th>\n",
       "      <td>SI35</td>\n",
       "      <td>New Brighton-Silver Lake</td>\n",
       "      <td>59</td>\n",
       "      <td>Richmond</td>\n",
       "      <td>Richmond_59</td>\n",
       "    </tr>\n",
       "    <tr>\n",
       "      <th>2134</th>\n",
       "      <td>SI37</td>\n",
       "      <td>Stapleton-Rosebank</td>\n",
       "      <td>6</td>\n",
       "      <td>Richmond</td>\n",
       "      <td>Richmond_6</td>\n",
       "    </tr>\n",
       "    <tr>\n",
       "      <th>2074</th>\n",
       "      <td>SI14</td>\n",
       "      <td>Grasmere-Arrochar-Ft. Wadsworth</td>\n",
       "      <td>64</td>\n",
       "      <td>Richmond</td>\n",
       "      <td>Richmond_64</td>\n",
       "    </tr>\n",
       "    <tr>\n",
       "      <th>2097</th>\n",
       "      <td>SI35</td>\n",
       "      <td>New Brighton-Silver Lake</td>\n",
       "      <td>67</td>\n",
       "      <td>Richmond</td>\n",
       "      <td>Richmond_67</td>\n",
       "    </tr>\n",
       "    <tr>\n",
       "      <th>2150</th>\n",
       "      <td>SI22</td>\n",
       "      <td>West New Brighton-New Brighton-St. George</td>\n",
       "      <td>7</td>\n",
       "      <td>Richmond</td>\n",
       "      <td>Richmond_7</td>\n",
       "    </tr>\n",
       "    <tr>\n",
       "      <th>2120</th>\n",
       "      <td>SI36</td>\n",
       "      <td>Old Town-Dongan Hills-South Beach</td>\n",
       "      <td>70</td>\n",
       "      <td>Richmond</td>\n",
       "      <td>Richmond_70</td>\n",
       "    </tr>\n",
       "    <tr>\n",
       "      <th>2075</th>\n",
       "      <td>SI14</td>\n",
       "      <td>Grasmere-Arrochar-Ft. Wadsworth</td>\n",
       "      <td>74</td>\n",
       "      <td>Richmond</td>\n",
       "      <td>Richmond_74</td>\n",
       "    </tr>\n",
       "    <tr>\n",
       "      <th>2098</th>\n",
       "      <td>SI35</td>\n",
       "      <td>New Brighton-Silver Lake</td>\n",
       "      <td>75</td>\n",
       "      <td>Richmond</td>\n",
       "      <td>Richmond_75</td>\n",
       "    </tr>\n",
       "    <tr>\n",
       "      <th>2153</th>\n",
       "      <td>SI22</td>\n",
       "      <td>West New Brighton-New Brighton-St. George</td>\n",
       "      <td>77</td>\n",
       "      <td>Richmond</td>\n",
       "      <td>Richmond_77</td>\n",
       "    </tr>\n",
       "    <tr>\n",
       "      <th>2135</th>\n",
       "      <td>SI37</td>\n",
       "      <td>Stapleton-Rosebank</td>\n",
       "      <td>8</td>\n",
       "      <td>Richmond</td>\n",
       "      <td>Richmond_8</td>\n",
       "    </tr>\n",
       "    <tr>\n",
       "      <th>2154</th>\n",
       "      <td>SI22</td>\n",
       "      <td>West New Brighton-New Brighton-St. George</td>\n",
       "      <td>81</td>\n",
       "      <td>Richmond</td>\n",
       "      <td>Richmond_81</td>\n",
       "    </tr>\n",
       "    <tr>\n",
       "      <th>2155</th>\n",
       "      <td>SI22</td>\n",
       "      <td>West New Brighton-New Brighton-St. George</td>\n",
       "      <td>89</td>\n",
       "      <td>Richmond</td>\n",
       "      <td>Richmond_89</td>\n",
       "    </tr>\n",
       "    <tr>\n",
       "      <th>2151</th>\n",
       "      <td>SI22</td>\n",
       "      <td>West New Brighton-New Brighton-St. George</td>\n",
       "      <td>9</td>\n",
       "      <td>Richmond</td>\n",
       "      <td>Richmond_9</td>\n",
       "    </tr>\n",
       "    <tr>\n",
       "      <th>2121</th>\n",
       "      <td>SI36</td>\n",
       "      <td>Old Town-Dongan Hills-South Beach</td>\n",
       "      <td>96.01</td>\n",
       "      <td>Richmond</td>\n",
       "      <td>Richmond_96.01</td>\n",
       "    </tr>\n",
       "    <tr>\n",
       "      <th>2122</th>\n",
       "      <td>SI36</td>\n",
       "      <td>Old Town-Dongan Hills-South Beach</td>\n",
       "      <td>96.02</td>\n",
       "      <td>Richmond</td>\n",
       "      <td>Richmond_96.02</td>\n",
       "    </tr>\n",
       "    <tr>\n",
       "      <th>2156</th>\n",
       "      <td>SI22</td>\n",
       "      <td>West New Brighton-New Brighton-St. George</td>\n",
       "      <td>97</td>\n",
       "      <td>Richmond</td>\n",
       "      <td>Richmond_97</td>\n",
       "    </tr>\n",
       "    <tr>\n",
       "      <th>2126</th>\n",
       "      <td>SI99</td>\n",
       "      <td>park-cemetery-etc-Staten Island</td>\n",
       "      <td>9901</td>\n",
       "      <td>Richmond</td>\n",
       "      <td>Richmond_9901</td>\n",
       "    </tr>\n",
       "  </tbody>\n",
       "</table>\n",
       "</div>"
      ],
      "text/plain": [
       "     nta_code                                           nta_name census_tract  \\\n",
       "2114     SI05                  New Springville-Bloomfield-Travis       291.04   \n",
       "2149     SI22          West New Brighton-New Brighton-St. George            3   \n",
       "2091     SI12  Mariner's Harbor-Arlington-Port Ivory-Granitev...       303.01   \n",
       "2092     SI12  Mariner's Harbor-Arlington-Port Ivory-Granitev...       303.02   \n",
       "2093     SI12  Mariner's Harbor-Arlington-Port Ivory-Granitev...       319.01   \n",
       "2094     SI12  Mariner's Harbor-Arlington-Port Ivory-Granitev...       319.02   \n",
       "2095     SI12  Mariner's Harbor-Arlington-Port Ivory-Granitev...          323   \n",
       "2084     SI08                      Grymes Hill-Clifton-Fox Hills           33   \n",
       "2141     SI37                                 Stapleton-Rosebank           36   \n",
       "2085     SI08                      Grymes Hill-Clifton-Fox Hills           39   \n",
       "2086     SI08                      Grymes Hill-Clifton-Fox Hills           40   \n",
       "2087     SI08                      Grymes Hill-Clifton-Fox Hills           47   \n",
       "2073     SI14                    Grasmere-Arrochar-Ft. Wadsworth           50   \n",
       "2096     SI35                           New Brighton-Silver Lake           59   \n",
       "2134     SI37                                 Stapleton-Rosebank            6   \n",
       "2074     SI14                    Grasmere-Arrochar-Ft. Wadsworth           64   \n",
       "2097     SI35                           New Brighton-Silver Lake           67   \n",
       "2150     SI22          West New Brighton-New Brighton-St. George            7   \n",
       "2120     SI36                  Old Town-Dongan Hills-South Beach           70   \n",
       "2075     SI14                    Grasmere-Arrochar-Ft. Wadsworth           74   \n",
       "2098     SI35                           New Brighton-Silver Lake           75   \n",
       "2153     SI22          West New Brighton-New Brighton-St. George           77   \n",
       "2135     SI37                                 Stapleton-Rosebank            8   \n",
       "2154     SI22          West New Brighton-New Brighton-St. George           81   \n",
       "2155     SI22          West New Brighton-New Brighton-St. George           89   \n",
       "2151     SI22          West New Brighton-New Brighton-St. George            9   \n",
       "2121     SI36                  Old Town-Dongan Hills-South Beach        96.01   \n",
       "2122     SI36                  Old Town-Dongan Hills-South Beach        96.02   \n",
       "2156     SI22          West New Brighton-New Brighton-St. George           97   \n",
       "2126     SI99                    park-cemetery-etc-Staten Island         9901   \n",
       "\n",
       "        county     county_tract  \n",
       "2114  Richmond  Richmond_291.04  \n",
       "2149  Richmond       Richmond_3  \n",
       "2091  Richmond  Richmond_303.01  \n",
       "2092  Richmond  Richmond_303.02  \n",
       "2093  Richmond  Richmond_319.01  \n",
       "2094  Richmond  Richmond_319.02  \n",
       "2095  Richmond     Richmond_323  \n",
       "2084  Richmond      Richmond_33  \n",
       "2141  Richmond      Richmond_36  \n",
       "2085  Richmond      Richmond_39  \n",
       "2086  Richmond      Richmond_40  \n",
       "2087  Richmond      Richmond_47  \n",
       "2073  Richmond      Richmond_50  \n",
       "2096  Richmond      Richmond_59  \n",
       "2134  Richmond       Richmond_6  \n",
       "2074  Richmond      Richmond_64  \n",
       "2097  Richmond      Richmond_67  \n",
       "2150  Richmond       Richmond_7  \n",
       "2120  Richmond      Richmond_70  \n",
       "2075  Richmond      Richmond_74  \n",
       "2098  Richmond      Richmond_75  \n",
       "2153  Richmond      Richmond_77  \n",
       "2135  Richmond       Richmond_8  \n",
       "2154  Richmond      Richmond_81  \n",
       "2155  Richmond      Richmond_89  \n",
       "2151  Richmond       Richmond_9  \n",
       "2121  Richmond   Richmond_96.01  \n",
       "2122  Richmond   Richmond_96.02  \n",
       "2156  Richmond      Richmond_97  \n",
       "2126  Richmond    Richmond_9901  "
      ]
     },
     "execution_count": 146,
     "metadata": {},
     "output_type": "execute_result"
    }
   ],
   "source": [
    "tract_nhood_df.tail(30)"
   ]
  },
  {
   "cell_type": "markdown",
   "metadata": {},
   "source": [
    "# Merge black population df with tract->neighborhood crosswalk"
   ]
  },
  {
   "cell_type": "markdown",
   "metadata": {},
   "source": [
    "Cool, now we *left* merge this into the demographics-by-tract dataset, on the `county_tract` var, to obtain a demographics-by-neighborhood dataset"
   ]
  },
  {
   "cell_type": "code",
   "execution_count": 225,
   "metadata": {
    "ExecuteTime": {
     "end_time": "2020-02-17T18:09:58.349305Z",
     "start_time": "2020-02-17T18:09:58.321128Z"
    }
   },
   "outputs": [],
   "source": [
    "# indicator=True tells it to make a var \"_merge\" indicating whether or not the row was\n",
    "# successfully merged with a row in tract_nhood_df\n",
    "demo_df_merged = demo_df.merge(tract_nhood_df, on=\"county_tract\", how=\"left\", indicator=True)"
   ]
  },
  {
   "cell_type": "code",
   "execution_count": 226,
   "metadata": {
    "ExecuteTime": {
     "end_time": "2020-02-17T18:09:58.898764Z",
     "start_time": "2020-02-17T18:09:58.882986Z"
    }
   },
   "outputs": [
    {
     "data": {
      "text/plain": [
       "both          2166\n",
       "right_only       0\n",
       "left_only        0\n",
       "Name: _merge, dtype: int64"
      ]
     },
     "execution_count": 226,
     "metadata": {},
     "output_type": "execute_result"
    }
   ],
   "source": [
    "# Check that all merged correctly\n",
    "demo_df_merged[\"_merge\"].value_counts()"
   ]
  },
  {
   "cell_type": "code",
   "execution_count": 227,
   "metadata": {
    "ExecuteTime": {
     "end_time": "2020-02-17T18:10:01.255605Z",
     "start_time": "2020-02-17T18:10:01.225976Z"
    }
   },
   "outputs": [],
   "source": [
    "# Cool! We can drop it now\n",
    "demo_df_merged.drop(columns=\"_merge\", inplace=True)"
   ]
  },
  {
   "cell_type": "code",
   "execution_count": 228,
   "metadata": {
    "ExecuteTime": {
     "end_time": "2020-02-17T18:10:01.552412Z",
     "start_time": "2020-02-17T18:10:01.521124Z"
    }
   },
   "outputs": [
    {
     "data": {
      "text/html": [
       "<div>\n",
       "<style scoped>\n",
       "    .dataframe tbody tr th:only-of-type {\n",
       "        vertical-align: middle;\n",
       "    }\n",
       "\n",
       "    .dataframe tbody tr th {\n",
       "        vertical-align: top;\n",
       "    }\n",
       "\n",
       "    .dataframe thead th {\n",
       "        text-align: right;\n",
       "    }\n",
       "</style>\n",
       "<table border=\"1\" class=\"dataframe\">\n",
       "  <thead>\n",
       "    <tr style=\"text-align: right;\">\n",
       "      <th></th>\n",
       "      <th>census_tract_x</th>\n",
       "      <th>county_x</th>\n",
       "      <th>county_tract</th>\n",
       "      <th>black_pop_pct</th>\n",
       "      <th>black_pop_total</th>\n",
       "      <th>pop_total</th>\n",
       "      <th>nta_code</th>\n",
       "      <th>nta_name</th>\n",
       "      <th>census_tract_y</th>\n",
       "      <th>county_y</th>\n",
       "    </tr>\n",
       "  </thead>\n",
       "  <tbody>\n",
       "    <tr>\n",
       "      <th>0</th>\n",
       "      <td>1</td>\n",
       "      <td>Bronx</td>\n",
       "      <td>Bronx_1</td>\n",
       "      <td>57.576575</td>\n",
       "      <td>4267.0</td>\n",
       "      <td>7411</td>\n",
       "      <td>BX98</td>\n",
       "      <td>Rikers Island</td>\n",
       "      <td>1</td>\n",
       "      <td>Bronx</td>\n",
       "    </tr>\n",
       "    <tr>\n",
       "      <th>1</th>\n",
       "      <td>2</td>\n",
       "      <td>Bronx</td>\n",
       "      <td>Bronx_2</td>\n",
       "      <td>18.446026</td>\n",
       "      <td>933.0</td>\n",
       "      <td>5058</td>\n",
       "      <td>BX09</td>\n",
       "      <td>Soundview-Castle Hill-Clason Point-Harding Park</td>\n",
       "      <td>2</td>\n",
       "      <td>Bronx</td>\n",
       "    </tr>\n",
       "    <tr>\n",
       "      <th>2</th>\n",
       "      <td>4</td>\n",
       "      <td>Bronx</td>\n",
       "      <td>Bronx_4</td>\n",
       "      <td>28.617093</td>\n",
       "      <td>1701.0</td>\n",
       "      <td>5944</td>\n",
       "      <td>BX09</td>\n",
       "      <td>Soundview-Castle Hill-Clason Point-Harding Park</td>\n",
       "      <td>4</td>\n",
       "      <td>Bronx</td>\n",
       "    </tr>\n",
       "    <tr>\n",
       "      <th>3</th>\n",
       "      <td>16</td>\n",
       "      <td>Bronx</td>\n",
       "      <td>Bronx_16</td>\n",
       "      <td>31.054783</td>\n",
       "      <td>1899.0</td>\n",
       "      <td>6115</td>\n",
       "      <td>BX09</td>\n",
       "      <td>Soundview-Castle Hill-Clason Point-Harding Park</td>\n",
       "      <td>16</td>\n",
       "      <td>Bronx</td>\n",
       "    </tr>\n",
       "    <tr>\n",
       "      <th>4</th>\n",
       "      <td>19</td>\n",
       "      <td>Bronx</td>\n",
       "      <td>Bronx_19</td>\n",
       "      <td>33.084842</td>\n",
       "      <td>932.0</td>\n",
       "      <td>2817</td>\n",
       "      <td>BX39</td>\n",
       "      <td>Mott Haven-Port Morris</td>\n",
       "      <td>19</td>\n",
       "      <td>Bronx</td>\n",
       "    </tr>\n",
       "  </tbody>\n",
       "</table>\n",
       "</div>"
      ],
      "text/plain": [
       "  census_tract_x county_x county_tract  black_pop_pct  black_pop_total  \\\n",
       "0              1    Bronx      Bronx_1      57.576575           4267.0   \n",
       "1              2    Bronx      Bronx_2      18.446026            933.0   \n",
       "2              4    Bronx      Bronx_4      28.617093           1701.0   \n",
       "3             16    Bronx     Bronx_16      31.054783           1899.0   \n",
       "4             19    Bronx     Bronx_19      33.084842            932.0   \n",
       "\n",
       "   pop_total nta_code                                         nta_name  \\\n",
       "0       7411     BX98                                    Rikers Island   \n",
       "1       5058     BX09  Soundview-Castle Hill-Clason Point-Harding Park   \n",
       "2       5944     BX09  Soundview-Castle Hill-Clason Point-Harding Park   \n",
       "3       6115     BX09  Soundview-Castle Hill-Clason Point-Harding Park   \n",
       "4       2817     BX39                           Mott Haven-Port Morris   \n",
       "\n",
       "  census_tract_y county_y  \n",
       "0              1    Bronx  \n",
       "1              2    Bronx  \n",
       "2              4    Bronx  \n",
       "3             16    Bronx  \n",
       "4             19    Bronx  "
      ]
     },
     "execution_count": 228,
     "metadata": {},
     "output_type": "execute_result"
    }
   ],
   "source": [
    "demo_df_merged.head()"
   ]
  },
  {
   "cell_type": "markdown",
   "metadata": {},
   "source": [
    "So now, since there can be many census tracts within a given Neighborhood Tabulation Area, we need to average the demographic stats up to the NTA level. The idea here, in pandas, is that we need to tell it:\n",
    "\n",
    "1. **Which variable to group the dataset by:** Here `nta_code`, which is the code for the neighborhood in NYC datasets), and then\n",
    "2. **How to aggregate it**: This is the harder part here. We *could* naively average the black population percentages, but this would be a bad idea since the black population percentage is a proportion of a total, and the average of a bunch of proportions from some population is *not* the same as the average of the population!\n",
    "\n",
    "    Think about it this way: say a neighborhood is comprised of two census tracts, Tract $A$ and Tract $B$. Tract $A$ has population 10, with 8 whites and 2 blacks, while Tract $B$ has population 100,000, with 999,000 blacks and 1,000 whites (this is more realistic than you would think, given that US urban history is replete with examples of white sections of neighborhoods lobbying to have themselves cut off from the black sections in government records, for example to ensure that their tax money only goes to enrich white-majority schools).\n",
    "    \n",
    "    Then, if we just averaged the two census tract averages, this would put as much weight on the 10 people in Tract $A$ as it puts on the 100,000 people in Tract $B$. The black population percentage in Tract $A$ is 20%, while in Tract $B$ it is 99.9%, so if we average the two percentages we would get a \"neighborhood average\" of $\\frac{99.9+20}{2} = 59.95\\%$, which is clearly not the same as the actual neighborhood average: across the whole neighborhood there are 999,002 blacks and 1,008 whites, thus the actual neighborhood-wide black population percentage is $\\frac{999002}{999002+1008} = \\frac{999002}{1000010} = 99.899\\%$.\n",
    "    \n",
    "    So, here rather than averaging the black population percentages over the tracts within each neighborhood, we need to *sum* the black populations themselves, as well as the total tract populations, and re-compute the black population percentages after aggregating."
   ]
  },
  {
   "cell_type": "code",
   "execution_count": 235,
   "metadata": {
    "ExecuteTime": {
     "end_time": "2020-02-17T18:10:59.137508Z",
     "start_time": "2020-02-17T18:10:59.094488Z"
    }
   },
   "outputs": [],
   "source": [
    "# Drop the black_pop_pct, since it doesn't help us compute neighborhood-wide averages\n",
    "demo_df_merged.drop(columns=[\"black_pop_pct\"], inplace=True)\n",
    "nta_demo_df = demo_df_merged.groupby(\"nta_code\").sum()"
   ]
  },
  {
   "cell_type": "code",
   "execution_count": 237,
   "metadata": {
    "ExecuteTime": {
     "end_time": "2020-02-17T18:11:14.385269Z",
     "start_time": "2020-02-17T18:11:14.369370Z"
    }
   },
   "outputs": [
    {
     "data": {
      "text/html": [
       "<div>\n",
       "<style scoped>\n",
       "    .dataframe tbody tr th:only-of-type {\n",
       "        vertical-align: middle;\n",
       "    }\n",
       "\n",
       "    .dataframe tbody tr th {\n",
       "        vertical-align: top;\n",
       "    }\n",
       "\n",
       "    .dataframe thead th {\n",
       "        text-align: right;\n",
       "    }\n",
       "</style>\n",
       "<table border=\"1\" class=\"dataframe\">\n",
       "  <thead>\n",
       "    <tr style=\"text-align: right;\">\n",
       "      <th></th>\n",
       "      <th>black_pop_total</th>\n",
       "      <th>pop_total</th>\n",
       "    </tr>\n",
       "    <tr>\n",
       "      <th>nta_code</th>\n",
       "      <th></th>\n",
       "      <th></th>\n",
       "    </tr>\n",
       "  </thead>\n",
       "  <tbody>\n",
       "    <tr>\n",
       "      <th>BK09</th>\n",
       "      <td>1018.0</td>\n",
       "      <td>24212</td>\n",
       "    </tr>\n",
       "    <tr>\n",
       "      <th>BK17</th>\n",
       "      <td>4626.0</td>\n",
       "      <td>67681</td>\n",
       "    </tr>\n",
       "  </tbody>\n",
       "</table>\n",
       "</div>"
      ],
      "text/plain": [
       "          black_pop_total  pop_total\n",
       "nta_code                            \n",
       "BK09               1018.0      24212\n",
       "BK17               4626.0      67681"
      ]
     },
     "execution_count": 237,
     "metadata": {},
     "output_type": "execute_result"
    }
   ],
   "source": [
    "nta_demo_df.head(2)"
   ]
  },
  {
   "cell_type": "markdown",
   "metadata": {},
   "source": [
    "And now we can re-compute the percentages"
   ]
  },
  {
   "cell_type": "code",
   "execution_count": 241,
   "metadata": {
    "ExecuteTime": {
     "end_time": "2020-02-17T18:12:46.192401Z",
     "start_time": "2020-02-17T18:12:46.176303Z"
    }
   },
   "outputs": [],
   "source": [
    "nta_demo_df[\"black_pop_pct\"] = (nta_demo_df[\"black_pop_total\"] / nta_demo_df[\"pop_total\"])*100"
   ]
  },
  {
   "cell_type": "code",
   "execution_count": 246,
   "metadata": {
    "ExecuteTime": {
     "end_time": "2020-02-17T18:16:50.066843Z",
     "start_time": "2020-02-17T18:16:50.027381Z"
    }
   },
   "outputs": [],
   "source": [
    "# We need to do this so that it treats nta_code as a \"normal\" column\n",
    "# instead of as the (special) index column\n",
    "nta_demo_df.reset_index(inplace=True)"
   ]
  },
  {
   "cell_type": "markdown",
   "metadata": {},
   "source": [
    "# Merge neighborhood-level demographics df with ETR df"
   ]
  },
  {
   "cell_type": "markdown",
   "metadata": {},
   "source": [
    "Now that we've merged the crosswalk and used it to aggregate our demographic vars up to the neighborhood (rather than census tract) level, we can now merge in the effective tax rate dataset"
   ]
  },
  {
   "cell_type": "code",
   "execution_count": 351,
   "metadata": {
    "ExecuteTime": {
     "end_time": "2020-02-17T19:28:37.488624Z",
     "start_time": "2020-02-17T19:28:37.458869Z"
    }
   },
   "outputs": [],
   "source": [
    "nta_merged_df = nta_demo_df.merge(etr_df, how=\"left\", on=\"nta_code\", indicator=True)"
   ]
  },
  {
   "cell_type": "code",
   "execution_count": 352,
   "metadata": {
    "ExecuteTime": {
     "end_time": "2020-02-17T19:28:37.774296Z",
     "start_time": "2020-02-17T19:28:37.758719Z"
    }
   },
   "outputs": [
    {
     "data": {
      "text/plain": [
       "both          186\n",
       "left_only       9\n",
       "right_only      0\n",
       "Name: _merge, dtype: int64"
      ]
     },
     "execution_count": 352,
     "metadata": {},
     "output_type": "execute_result"
    }
   ],
   "source": [
    "# Check our indicator\n",
    "nta_merged_df[\"_merge\"].value_counts()"
   ]
  },
  {
   "cell_type": "markdown",
   "metadata": {},
   "source": [
    "So 9 of the demographic data observations could not be matched with an observation from the effective tax rate dataset. Let's check them, see if we should worry or if they're just weird cases"
   ]
  },
  {
   "cell_type": "markdown",
   "metadata": {},
   "source": [
    "## Checking [neighborhood-level demographics <- ETR] merge failures"
   ]
  },
  {
   "cell_type": "code",
   "execution_count": 353,
   "metadata": {
    "ExecuteTime": {
     "end_time": "2020-02-17T19:28:38.143530Z",
     "start_time": "2020-02-17T19:28:38.103496Z"
    }
   },
   "outputs": [
    {
     "data": {
      "text/html": [
       "<div>\n",
       "<style scoped>\n",
       "    .dataframe tbody tr th:only-of-type {\n",
       "        vertical-align: middle;\n",
       "    }\n",
       "\n",
       "    .dataframe tbody tr th {\n",
       "        vertical-align: top;\n",
       "    }\n",
       "\n",
       "    .dataframe thead th {\n",
       "        text-align: right;\n",
       "    }\n",
       "</style>\n",
       "<table border=\"1\" class=\"dataframe\">\n",
       "  <thead>\n",
       "    <tr style=\"text-align: right;\">\n",
       "      <th></th>\n",
       "      <th>nta_code</th>\n",
       "      <th>black_pop_total</th>\n",
       "      <th>pop_total</th>\n",
       "      <th>black_pop_pct</th>\n",
       "      <th>borough</th>\n",
       "      <th>median_ar</th>\n",
       "      <th>median_etr</th>\n",
       "      <th>median_mv</th>\n",
       "      <th>nhood_name</th>\n",
       "      <th>_merge</th>\n",
       "    </tr>\n",
       "  </thead>\n",
       "  <tbody>\n",
       "    <tr>\n",
       "      <th>4</th>\n",
       "      <td>BK23</td>\n",
       "      <td>214.0</td>\n",
       "      <td>16436</td>\n",
       "      <td>1.302020</td>\n",
       "      <td>NaN</td>\n",
       "      <td>NaN</td>\n",
       "      <td>NaN</td>\n",
       "      <td>NaN</td>\n",
       "      <td>NaN</td>\n",
       "      <td>left_only</td>\n",
       "    </tr>\n",
       "    <tr>\n",
       "      <th>50</th>\n",
       "      <td>BK99</td>\n",
       "      <td>20.0</td>\n",
       "      <td>380</td>\n",
       "      <td>5.263158</td>\n",
       "      <td>NaN</td>\n",
       "      <td>NaN</td>\n",
       "      <td>NaN</td>\n",
       "      <td>NaN</td>\n",
       "      <td>NaN</td>\n",
       "      <td>left_only</td>\n",
       "    </tr>\n",
       "    <tr>\n",
       "      <th>87</th>\n",
       "      <td>BX98</td>\n",
       "      <td>4267.0</td>\n",
       "      <td>7411</td>\n",
       "      <td>57.576575</td>\n",
       "      <td>NaN</td>\n",
       "      <td>NaN</td>\n",
       "      <td>NaN</td>\n",
       "      <td>NaN</td>\n",
       "      <td>NaN</td>\n",
       "      <td>left_only</td>\n",
       "    </tr>\n",
       "    <tr>\n",
       "      <th>88</th>\n",
       "      <td>BX99</td>\n",
       "      <td>262.0</td>\n",
       "      <td>1044</td>\n",
       "      <td>25.095785</td>\n",
       "      <td>NaN</td>\n",
       "      <td>NaN</td>\n",
       "      <td>NaN</td>\n",
       "      <td>NaN</td>\n",
       "      <td>NaN</td>\n",
       "      <td>left_only</td>\n",
       "    </tr>\n",
       "    <tr>\n",
       "      <th>116</th>\n",
       "      <td>MN50</td>\n",
       "      <td>1108.0</td>\n",
       "      <td>22526</td>\n",
       "      <td>4.918761</td>\n",
       "      <td>NaN</td>\n",
       "      <td>NaN</td>\n",
       "      <td>NaN</td>\n",
       "      <td>NaN</td>\n",
       "      <td>NaN</td>\n",
       "      <td>left_only</td>\n",
       "    </tr>\n",
       "    <tr>\n",
       "      <th>117</th>\n",
       "      <td>MN99</td>\n",
       "      <td>922.0</td>\n",
       "      <td>1835</td>\n",
       "      <td>50.245232</td>\n",
       "      <td>NaN</td>\n",
       "      <td>NaN</td>\n",
       "      <td>NaN</td>\n",
       "      <td>NaN</td>\n",
       "      <td>NaN</td>\n",
       "      <td>left_only</td>\n",
       "    </tr>\n",
       "    <tr>\n",
       "      <th>174</th>\n",
       "      <td>QN98</td>\n",
       "      <td>0.0</td>\n",
       "      <td>0</td>\n",
       "      <td>NaN</td>\n",
       "      <td>NaN</td>\n",
       "      <td>NaN</td>\n",
       "      <td>NaN</td>\n",
       "      <td>NaN</td>\n",
       "      <td>NaN</td>\n",
       "      <td>left_only</td>\n",
       "    </tr>\n",
       "    <tr>\n",
       "      <th>175</th>\n",
       "      <td>QN99</td>\n",
       "      <td>5.0</td>\n",
       "      <td>139</td>\n",
       "      <td>3.597122</td>\n",
       "      <td>NaN</td>\n",
       "      <td>NaN</td>\n",
       "      <td>NaN</td>\n",
       "      <td>NaN</td>\n",
       "      <td>NaN</td>\n",
       "      <td>left_only</td>\n",
       "    </tr>\n",
       "    <tr>\n",
       "      <th>194</th>\n",
       "      <td>SI99</td>\n",
       "      <td>0.0</td>\n",
       "      <td>0</td>\n",
       "      <td>NaN</td>\n",
       "      <td>NaN</td>\n",
       "      <td>NaN</td>\n",
       "      <td>NaN</td>\n",
       "      <td>NaN</td>\n",
       "      <td>NaN</td>\n",
       "      <td>left_only</td>\n",
       "    </tr>\n",
       "  </tbody>\n",
       "</table>\n",
       "</div>"
      ],
      "text/plain": [
       "    nta_code  black_pop_total  pop_total  black_pop_pct borough median_ar  \\\n",
       "4       BK23            214.0      16436       1.302020     NaN       NaN   \n",
       "50      BK99             20.0        380       5.263158     NaN       NaN   \n",
       "87      BX98           4267.0       7411      57.576575     NaN       NaN   \n",
       "88      BX99            262.0       1044      25.095785     NaN       NaN   \n",
       "116     MN50           1108.0      22526       4.918761     NaN       NaN   \n",
       "117     MN99            922.0       1835      50.245232     NaN       NaN   \n",
       "174     QN98              0.0          0            NaN     NaN       NaN   \n",
       "175     QN99              5.0        139       3.597122     NaN       NaN   \n",
       "194     SI99              0.0          0            NaN     NaN       NaN   \n",
       "\n",
       "    median_etr median_mv nhood_name     _merge  \n",
       "4          NaN       NaN        NaN  left_only  \n",
       "50         NaN       NaN        NaN  left_only  \n",
       "87         NaN       NaN        NaN  left_only  \n",
       "88         NaN       NaN        NaN  left_only  \n",
       "116        NaN       NaN        NaN  left_only  \n",
       "117        NaN       NaN        NaN  left_only  \n",
       "174        NaN       NaN        NaN  left_only  \n",
       "175        NaN       NaN        NaN  left_only  \n",
       "194        NaN       NaN        NaN  left_only  "
      ]
     },
     "execution_count": 353,
     "metadata": {},
     "output_type": "execute_result"
    }
   ],
   "source": [
    "nta_merged_df.loc[nta_merged_df[\"_merge\"] == \"left_only\"]"
   ]
  },
  {
   "cell_type": "markdown",
   "metadata": {},
   "source": [
    "Now let's look at what these neighborhoods are, from the crosswalk, to see why we might not have Effective Tax Rate data from them:"
   ]
  },
  {
   "cell_type": "code",
   "execution_count": 354,
   "metadata": {
    "ExecuteTime": {
     "end_time": "2020-02-17T19:28:38.441144Z",
     "start_time": "2020-02-17T19:28:38.425799Z"
    }
   },
   "outputs": [],
   "source": [
    "def get_neighborhood_info(nta_code):\n",
    "    return tract_nhood_df.loc[tract_nhood_df[\"nta_code\"] == nta_code]"
   ]
  },
  {
   "cell_type": "markdown",
   "metadata": {},
   "source": [
    "### `BK23`"
   ]
  },
  {
   "cell_type": "code",
   "execution_count": 355,
   "metadata": {
    "ExecuteTime": {
     "end_time": "2020-02-17T19:28:38.795603Z",
     "start_time": "2020-02-17T19:28:38.754858Z"
    }
   },
   "outputs": [
    {
     "data": {
      "text/html": [
       "<div>\n",
       "<style scoped>\n",
       "    .dataframe tbody tr th:only-of-type {\n",
       "        vertical-align: middle;\n",
       "    }\n",
       "\n",
       "    .dataframe tbody tr th {\n",
       "        vertical-align: top;\n",
       "    }\n",
       "\n",
       "    .dataframe thead th {\n",
       "        text-align: right;\n",
       "    }\n",
       "</style>\n",
       "<table border=\"1\" class=\"dataframe\">\n",
       "  <thead>\n",
       "    <tr style=\"text-align: right;\">\n",
       "      <th></th>\n",
       "      <th>nta_code</th>\n",
       "      <th>nta_name</th>\n",
       "      <th>census_tract</th>\n",
       "      <th>county</th>\n",
       "      <th>county_tract</th>\n",
       "    </tr>\n",
       "  </thead>\n",
       "  <tbody>\n",
       "    <tr>\n",
       "      <th>1083</th>\n",
       "      <td>BK23</td>\n",
       "      <td>West Brighton</td>\n",
       "      <td>350</td>\n",
       "      <td>Kings</td>\n",
       "      <td>Kings_350</td>\n",
       "    </tr>\n",
       "    <tr>\n",
       "      <th>1084</th>\n",
       "      <td>BK23</td>\n",
       "      <td>West Brighton</td>\n",
       "      <td>354</td>\n",
       "      <td>Kings</td>\n",
       "      <td>Kings_354</td>\n",
       "    </tr>\n",
       "    <tr>\n",
       "      <th>1085</th>\n",
       "      <td>BK23</td>\n",
       "      <td>West Brighton</td>\n",
       "      <td>356.01</td>\n",
       "      <td>Kings</td>\n",
       "      <td>Kings_356.01</td>\n",
       "    </tr>\n",
       "    <tr>\n",
       "      <th>1086</th>\n",
       "      <td>BK23</td>\n",
       "      <td>West Brighton</td>\n",
       "      <td>356.02</td>\n",
       "      <td>Kings</td>\n",
       "      <td>Kings_356.02</td>\n",
       "    </tr>\n",
       "  </tbody>\n",
       "</table>\n",
       "</div>"
      ],
      "text/plain": [
       "     nta_code       nta_name census_tract county  county_tract\n",
       "1083     BK23  West Brighton          350  Kings     Kings_350\n",
       "1084     BK23  West Brighton          354  Kings     Kings_354\n",
       "1085     BK23  West Brighton       356.01  Kings  Kings_356.01\n",
       "1086     BK23  West Brighton       356.02  Kings  Kings_356.02"
      ]
     },
     "execution_count": 355,
     "metadata": {},
     "output_type": "execute_result"
    }
   ],
   "source": [
    "get_neighborhood_info(\"BK23\")"
   ]
  },
  {
   "cell_type": "markdown",
   "metadata": {},
   "source": [
    "This one is pretty bizarre, since it's listed as being in Kings county but actually [West Brighton](https://en.wikipedia.org/wiki/West_New_Brighton,_Staten_Island) is a neighborhood in Staten Island... We'd probably need to contact the people who constructed the data set (the [NY Citizens Budget Commission](https://cbcny.org/research/new-york-city-homeowners)) to see what's up here, unless someone knows something about NYC that I don't? Until then, we'll drop it from our analysis:"
   ]
  },
  {
   "cell_type": "code",
   "execution_count": 356,
   "metadata": {
    "ExecuteTime": {
     "end_time": "2020-02-17T19:28:39.108000Z",
     "start_time": "2020-02-17T19:28:39.076974Z"
    }
   },
   "outputs": [
    {
     "name": "stdout",
     "output_type": "stream",
     "text": [
      "195\n",
      "194\n"
     ]
    }
   ],
   "source": [
    "print(len(nta_merged_df))\n",
    "nta_merged_df = nta_merged_df[nta_merged_df[\"nta_code\"] != \"BK23\"].copy()\n",
    "print(len(nta_merged_df))"
   ]
  },
  {
   "cell_type": "markdown",
   "metadata": {},
   "source": [
    "### `BK99`"
   ]
  },
  {
   "cell_type": "code",
   "execution_count": 357,
   "metadata": {
    "ExecuteTime": {
     "end_time": "2020-02-17T19:28:39.451572Z",
     "start_time": "2020-02-17T19:28:39.421514Z"
    }
   },
   "outputs": [
    {
     "data": {
      "text/html": [
       "<div>\n",
       "<style scoped>\n",
       "    .dataframe tbody tr th:only-of-type {\n",
       "        vertical-align: middle;\n",
       "    }\n",
       "\n",
       "    .dataframe tbody tr th {\n",
       "        vertical-align: top;\n",
       "    }\n",
       "\n",
       "    .dataframe thead th {\n",
       "        text-align: right;\n",
       "    }\n",
       "</style>\n",
       "<table border=\"1\" class=\"dataframe\">\n",
       "  <thead>\n",
       "    <tr style=\"text-align: right;\">\n",
       "      <th></th>\n",
       "      <th>nta_code</th>\n",
       "      <th>nta_name</th>\n",
       "      <th>census_tract</th>\n",
       "      <th>county</th>\n",
       "      <th>county_tract</th>\n",
       "    </tr>\n",
       "  </thead>\n",
       "  <tbody>\n",
       "    <tr>\n",
       "      <th>962</th>\n",
       "      <td>BK99</td>\n",
       "      <td>park-cemetery-etc-Brooklyn</td>\n",
       "      <td>1180</td>\n",
       "      <td>Kings</td>\n",
       "      <td>Kings_1180</td>\n",
       "    </tr>\n",
       "    <tr>\n",
       "      <th>953</th>\n",
       "      <td>BK99</td>\n",
       "      <td>park-cemetery-etc-Brooklyn</td>\n",
       "      <td>154</td>\n",
       "      <td>Kings</td>\n",
       "      <td>Kings_154</td>\n",
       "    </tr>\n",
       "    <tr>\n",
       "      <th>954</th>\n",
       "      <td>BK99</td>\n",
       "      <td>park-cemetery-etc-Brooklyn</td>\n",
       "      <td>175</td>\n",
       "      <td>Kings</td>\n",
       "      <td>Kings_175</td>\n",
       "    </tr>\n",
       "    <tr>\n",
       "      <th>955</th>\n",
       "      <td>BK99</td>\n",
       "      <td>park-cemetery-etc-Brooklyn</td>\n",
       "      <td>177</td>\n",
       "      <td>Kings</td>\n",
       "      <td>Kings_177</td>\n",
       "    </tr>\n",
       "    <tr>\n",
       "      <th>956</th>\n",
       "      <td>BK99</td>\n",
       "      <td>park-cemetery-etc-Brooklyn</td>\n",
       "      <td>407</td>\n",
       "      <td>Kings</td>\n",
       "      <td>Kings_407</td>\n",
       "    </tr>\n",
       "    <tr>\n",
       "      <th>957</th>\n",
       "      <td>BK99</td>\n",
       "      <td>park-cemetery-etc-Brooklyn</td>\n",
       "      <td>543</td>\n",
       "      <td>Kings</td>\n",
       "      <td>Kings_543</td>\n",
       "    </tr>\n",
       "    <tr>\n",
       "      <th>958</th>\n",
       "      <td>BK99</td>\n",
       "      <td>park-cemetery-etc-Brooklyn</td>\n",
       "      <td>666</td>\n",
       "      <td>Kings</td>\n",
       "      <td>Kings_666</td>\n",
       "    </tr>\n",
       "    <tr>\n",
       "      <th>959</th>\n",
       "      <td>BK99</td>\n",
       "      <td>park-cemetery-etc-Brooklyn</td>\n",
       "      <td>702.02</td>\n",
       "      <td>Kings</td>\n",
       "      <td>Kings_702.02</td>\n",
       "    </tr>\n",
       "    <tr>\n",
       "      <th>960</th>\n",
       "      <td>BK99</td>\n",
       "      <td>park-cemetery-etc-Brooklyn</td>\n",
       "      <td>702.03</td>\n",
       "      <td>Kings</td>\n",
       "      <td>Kings_702.03</td>\n",
       "    </tr>\n",
       "    <tr>\n",
       "      <th>961</th>\n",
       "      <td>BK99</td>\n",
       "      <td>park-cemetery-etc-Brooklyn</td>\n",
       "      <td>852</td>\n",
       "      <td>Kings</td>\n",
       "      <td>Kings_852</td>\n",
       "    </tr>\n",
       "    <tr>\n",
       "      <th>963</th>\n",
       "      <td>BK99</td>\n",
       "      <td>park-cemetery-etc-Brooklyn</td>\n",
       "      <td>9901</td>\n",
       "      <td>Kings</td>\n",
       "      <td>Kings_9901</td>\n",
       "    </tr>\n",
       "  </tbody>\n",
       "</table>\n",
       "</div>"
      ],
      "text/plain": [
       "    nta_code                    nta_name census_tract county  county_tract\n",
       "962     BK99  park-cemetery-etc-Brooklyn         1180  Kings    Kings_1180\n",
       "953     BK99  park-cemetery-etc-Brooklyn          154  Kings     Kings_154\n",
       "954     BK99  park-cemetery-etc-Brooklyn          175  Kings     Kings_175\n",
       "955     BK99  park-cemetery-etc-Brooklyn          177  Kings     Kings_177\n",
       "956     BK99  park-cemetery-etc-Brooklyn          407  Kings     Kings_407\n",
       "957     BK99  park-cemetery-etc-Brooklyn          543  Kings     Kings_543\n",
       "958     BK99  park-cemetery-etc-Brooklyn          666  Kings     Kings_666\n",
       "959     BK99  park-cemetery-etc-Brooklyn       702.02  Kings  Kings_702.02\n",
       "960     BK99  park-cemetery-etc-Brooklyn       702.03  Kings  Kings_702.03\n",
       "961     BK99  park-cemetery-etc-Brooklyn          852  Kings     Kings_852\n",
       "963     BK99  park-cemetery-etc-Brooklyn         9901  Kings    Kings_9901"
      ]
     },
     "execution_count": 357,
     "metadata": {},
     "output_type": "execute_result"
    }
   ],
   "source": [
    "get_neighborhood_info(\"BK99\")"
   ]
  },
  {
   "cell_type": "markdown",
   "metadata": {},
   "source": [
    "This one makes more sense. 99 is a code given to represent the \"neighborhood\" of extra non-residential land -- parks, cemetaries, etc... So we can also drop the neighborhood 99 observations for the other 4 boroughs as well:"
   ]
  },
  {
   "cell_type": "code",
   "execution_count": 358,
   "metadata": {
    "ExecuteTime": {
     "end_time": "2020-02-17T19:28:39.769524Z",
     "start_time": "2020-02-17T19:28:39.734826Z"
    }
   },
   "outputs": [
    {
     "name": "stdout",
     "output_type": "stream",
     "text": [
      "194\n",
      "189\n"
     ]
    }
   ],
   "source": [
    "print(len(nta_merged_df))\n",
    "nta_merged_df = nta_merged_df[nta_merged_df[\"nta_code\"].str[-2:] != \"99\"].copy()\n",
    "print(len(nta_merged_df))"
   ]
  },
  {
   "cell_type": "markdown",
   "metadata": {},
   "source": [
    "### `BX98`"
   ]
  },
  {
   "cell_type": "code",
   "execution_count": 359,
   "metadata": {
    "ExecuteTime": {
     "end_time": "2020-02-17T19:28:40.106777Z",
     "start_time": "2020-02-17T19:28:40.068659Z"
    }
   },
   "outputs": [
    {
     "data": {
      "text/html": [
       "<div>\n",
       "<style scoped>\n",
       "    .dataframe tbody tr th:only-of-type {\n",
       "        vertical-align: middle;\n",
       "    }\n",
       "\n",
       "    .dataframe tbody tr th {\n",
       "        vertical-align: top;\n",
       "    }\n",
       "\n",
       "    .dataframe thead th {\n",
       "        text-align: right;\n",
       "    }\n",
       "</style>\n",
       "<table border=\"1\" class=\"dataframe\">\n",
       "  <thead>\n",
       "    <tr style=\"text-align: right;\">\n",
       "      <th></th>\n",
       "      <th>nta_code</th>\n",
       "      <th>nta_name</th>\n",
       "      <th>census_tract</th>\n",
       "      <th>county</th>\n",
       "      <th>county_tract</th>\n",
       "    </tr>\n",
       "  </thead>\n",
       "  <tbody>\n",
       "    <tr>\n",
       "      <th>202</th>\n",
       "      <td>BX98</td>\n",
       "      <td>Rikers Island</td>\n",
       "      <td>1</td>\n",
       "      <td>Bronx</td>\n",
       "      <td>Bronx_1</td>\n",
       "    </tr>\n",
       "  </tbody>\n",
       "</table>\n",
       "</div>"
      ],
      "text/plain": [
       "    nta_code       nta_name census_tract county county_tract\n",
       "202     BX98  Rikers Island            1  Bronx      Bronx_1"
      ]
     },
     "execution_count": 359,
     "metadata": {},
     "output_type": "execute_result"
    }
   ],
   "source": [
    "get_neighborhood_info(\"BX98\")"
   ]
  },
  {
   "cell_type": "markdown",
   "metadata": {},
   "source": [
    "Rikers Island... That explains the 57.8% black population there, but no Effective Tax Rate info makes sense. Dropping it:"
   ]
  },
  {
   "cell_type": "code",
   "execution_count": 360,
   "metadata": {
    "ExecuteTime": {
     "end_time": "2020-02-17T19:28:40.423919Z",
     "start_time": "2020-02-17T19:28:40.408743Z"
    }
   },
   "outputs": [
    {
     "name": "stdout",
     "output_type": "stream",
     "text": [
      "189\n",
      "188\n"
     ]
    }
   ],
   "source": [
    "print(len(nta_merged_df))\n",
    "nta_merged_df = nta_merged_df[nta_merged_df[\"nta_code\"] != \"BX98\"].copy()\n",
    "print(len(nta_merged_df))"
   ]
  },
  {
   "cell_type": "markdown",
   "metadata": {},
   "source": [
    "### `MN50`"
   ]
  },
  {
   "cell_type": "code",
   "execution_count": 361,
   "metadata": {
    "ExecuteTime": {
     "end_time": "2020-02-17T19:28:40.772801Z",
     "start_time": "2020-02-17T19:28:40.741732Z"
    }
   },
   "outputs": [
    {
     "data": {
      "text/html": [
       "<div>\n",
       "<style scoped>\n",
       "    .dataframe tbody tr th:only-of-type {\n",
       "        vertical-align: middle;\n",
       "    }\n",
       "\n",
       "    .dataframe tbody tr th {\n",
       "        vertical-align: top;\n",
       "    }\n",
       "\n",
       "    .dataframe thead th {\n",
       "        text-align: right;\n",
       "    }\n",
       "</style>\n",
       "<table border=\"1\" class=\"dataframe\">\n",
       "  <thead>\n",
       "    <tr style=\"text-align: right;\">\n",
       "      <th></th>\n",
       "      <th>nta_code</th>\n",
       "      <th>nta_name</th>\n",
       "      <th>census_tract</th>\n",
       "      <th>county</th>\n",
       "      <th>county_tract</th>\n",
       "    </tr>\n",
       "  </thead>\n",
       "  <tbody>\n",
       "    <tr>\n",
       "      <th>1300</th>\n",
       "      <td>MN50</td>\n",
       "      <td>Stuyvesant Town-Cooper Village</td>\n",
       "      <td>44</td>\n",
       "      <td>New_York</td>\n",
       "      <td>New_York_44</td>\n",
       "    </tr>\n",
       "    <tr>\n",
       "      <th>1301</th>\n",
       "      <td>MN50</td>\n",
       "      <td>Stuyvesant Town-Cooper Village</td>\n",
       "      <td>60</td>\n",
       "      <td>New_York</td>\n",
       "      <td>New_York_60</td>\n",
       "    </tr>\n",
       "  </tbody>\n",
       "</table>\n",
       "</div>"
      ],
      "text/plain": [
       "     nta_code                        nta_name census_tract    county  \\\n",
       "1300     MN50  Stuyvesant Town-Cooper Village           44  New_York   \n",
       "1301     MN50  Stuyvesant Town-Cooper Village           60  New_York   \n",
       "\n",
       "     county_tract  \n",
       "1300  New_York_44  \n",
       "1301  New_York_60  "
      ]
     },
     "execution_count": 361,
     "metadata": {},
     "output_type": "execute_result"
    }
   ],
   "source": [
    "get_neighborhood_info(\"MN50\")"
   ]
  },
  {
   "cell_type": "markdown",
   "metadata": {},
   "source": [
    "Stuy Town-Peter Cooper Village. Don't understand this one, since it is indeed in New York and indeed has lots of people in it, plus it has a pretty important history in terms of [discrimination against blacks](https://en.wikipedia.org/wiki/Stuyvesant_Town%E2%80%93Peter_Cooper_Village#Controversy), but oh well let's drop it:"
   ]
  },
  {
   "cell_type": "code",
   "execution_count": 362,
   "metadata": {
    "ExecuteTime": {
     "end_time": "2020-02-17T19:28:41.105176Z",
     "start_time": "2020-02-17T19:28:41.071713Z"
    }
   },
   "outputs": [
    {
     "name": "stdout",
     "output_type": "stream",
     "text": [
      "188\n",
      "187\n"
     ]
    }
   ],
   "source": [
    "print(len(nta_merged_df))\n",
    "nta_merged_df = nta_merged_df[nta_merged_df[\"nta_code\"] != \"MN50\"].copy()\n",
    "print(len(nta_merged_df))"
   ]
  },
  {
   "cell_type": "markdown",
   "metadata": {},
   "source": [
    "### `QN98`"
   ]
  },
  {
   "cell_type": "code",
   "execution_count": 363,
   "metadata": {
    "ExecuteTime": {
     "end_time": "2020-02-17T19:28:41.769754Z",
     "start_time": "2020-02-17T19:28:41.731177Z"
    }
   },
   "outputs": [
    {
     "data": {
      "text/html": [
       "<div>\n",
       "<style scoped>\n",
       "    .dataframe tbody tr th:only-of-type {\n",
       "        vertical-align: middle;\n",
       "    }\n",
       "\n",
       "    .dataframe tbody tr th {\n",
       "        vertical-align: top;\n",
       "    }\n",
       "\n",
       "    .dataframe thead th {\n",
       "        text-align: right;\n",
       "    }\n",
       "</style>\n",
       "<table border=\"1\" class=\"dataframe\">\n",
       "  <thead>\n",
       "    <tr style=\"text-align: right;\">\n",
       "      <th></th>\n",
       "      <th>nta_code</th>\n",
       "      <th>nta_name</th>\n",
       "      <th>census_tract</th>\n",
       "      <th>county</th>\n",
       "      <th>county_tract</th>\n",
       "    </tr>\n",
       "  </thead>\n",
       "  <tbody>\n",
       "    <tr>\n",
       "      <th>1388</th>\n",
       "      <td>QN98</td>\n",
       "      <td>Airport</td>\n",
       "      <td>331</td>\n",
       "      <td>Queens</td>\n",
       "      <td>Queens_331</td>\n",
       "    </tr>\n",
       "    <tr>\n",
       "      <th>1389</th>\n",
       "      <td>QN98</td>\n",
       "      <td>Airport</td>\n",
       "      <td>716</td>\n",
       "      <td>Queens</td>\n",
       "      <td>Queens_716</td>\n",
       "    </tr>\n",
       "  </tbody>\n",
       "</table>\n",
       "</div>"
      ],
      "text/plain": [
       "     nta_code nta_name census_tract  county county_tract\n",
       "1388     QN98  Airport          331  Queens   Queens_331\n",
       "1389     QN98  Airport          716  Queens   Queens_716"
      ]
     },
     "execution_count": 363,
     "metadata": {},
     "output_type": "execute_result"
    }
   ],
   "source": [
    "get_neighborhood_info(\"QN98\")"
   ]
  },
  {
   "cell_type": "markdown",
   "metadata": {},
   "source": [
    "It's LaGuardia and JFK airports... ok to drop."
   ]
  },
  {
   "cell_type": "code",
   "execution_count": 364,
   "metadata": {
    "ExecuteTime": {
     "end_time": "2020-02-17T19:28:42.569123Z",
     "start_time": "2020-02-17T19:28:42.541238Z"
    }
   },
   "outputs": [
    {
     "name": "stdout",
     "output_type": "stream",
     "text": [
      "187\n",
      "186\n"
     ]
    }
   ],
   "source": [
    "print(len(nta_merged_df))\n",
    "nta_merged_df = nta_merged_df[nta_merged_df[\"nta_code\"] != \"QN98\"].copy()\n",
    "print(len(nta_merged_df))"
   ]
  },
  {
   "cell_type": "markdown",
   "metadata": {},
   "source": [
    "So we've now checked all of the merge failures! Something you should always do carefully. Final check to make sure they've all been dropped:"
   ]
  },
  {
   "cell_type": "code",
   "execution_count": 365,
   "metadata": {
    "ExecuteTime": {
     "end_time": "2020-02-17T19:28:43.351306Z",
     "start_time": "2020-02-17T19:28:43.335653Z"
    }
   },
   "outputs": [
    {
     "data": {
      "text/html": [
       "<div>\n",
       "<style scoped>\n",
       "    .dataframe tbody tr th:only-of-type {\n",
       "        vertical-align: middle;\n",
       "    }\n",
       "\n",
       "    .dataframe tbody tr th {\n",
       "        vertical-align: top;\n",
       "    }\n",
       "\n",
       "    .dataframe thead th {\n",
       "        text-align: right;\n",
       "    }\n",
       "</style>\n",
       "<table border=\"1\" class=\"dataframe\">\n",
       "  <thead>\n",
       "    <tr style=\"text-align: right;\">\n",
       "      <th></th>\n",
       "      <th>nta_code</th>\n",
       "      <th>black_pop_total</th>\n",
       "      <th>pop_total</th>\n",
       "      <th>black_pop_pct</th>\n",
       "      <th>borough</th>\n",
       "      <th>median_ar</th>\n",
       "      <th>median_etr</th>\n",
       "      <th>median_mv</th>\n",
       "      <th>nhood_name</th>\n",
       "      <th>_merge</th>\n",
       "    </tr>\n",
       "  </thead>\n",
       "  <tbody>\n",
       "  </tbody>\n",
       "</table>\n",
       "</div>"
      ],
      "text/plain": [
       "Empty DataFrame\n",
       "Columns: [nta_code, black_pop_total, pop_total, black_pop_pct, borough, median_ar, median_etr, median_mv, nhood_name, _merge]\n",
       "Index: []"
      ]
     },
     "execution_count": 365,
     "metadata": {},
     "output_type": "execute_result"
    }
   ],
   "source": [
    "nta_merged_df.loc[nta_merged_df[\"_merge\"] == \"left_only\"]"
   ]
  },
  {
   "cell_type": "markdown",
   "metadata": {},
   "source": [
    "And so now we can drop our `_merge` indicator"
   ]
  },
  {
   "cell_type": "code",
   "execution_count": 366,
   "metadata": {
    "ExecuteTime": {
     "end_time": "2020-02-17T19:28:44.283572Z",
     "start_time": "2020-02-17T19:28:44.267904Z"
    }
   },
   "outputs": [],
   "source": [
    "nta_merged_df.drop(columns=\"_merge\", inplace=True)"
   ]
  },
  {
   "cell_type": "code",
   "execution_count": 23,
   "metadata": {
    "ExecuteTime": {
     "end_time": "2020-02-17T22:10:31.837990Z",
     "start_time": "2020-02-17T22:10:31.804890Z"
    }
   },
   "outputs": [
    {
     "ename": "NameError",
     "evalue": "name 'nta_merged_df' is not defined",
     "output_type": "error",
     "traceback": [
      "\u001b[1;31m---------------------------------------------------------------------------\u001b[0m",
      "\u001b[1;31mNameError\u001b[0m                                 Traceback (most recent call last)",
      "\u001b[1;32m<ipython-input-23-bc617af9e899>\u001b[0m in \u001b[0;36m<module>\u001b[1;34m\u001b[0m\n\u001b[1;32m----> 1\u001b[1;33m \u001b[0mnta_merged_df\u001b[0m\u001b[1;33m\u001b[0m\u001b[1;33m\u001b[0m\u001b[0m\n\u001b[0m",
      "\u001b[1;31mNameError\u001b[0m: name 'nta_merged_df' is not defined"
     ]
    }
   ],
   "source": [
    "nta_merged_df"
   ]
  },
  {
   "cell_type": "markdown",
   "metadata": {},
   "source": [
    "# Doin the Data Science"
   ]
  },
  {
   "cell_type": "markdown",
   "metadata": {},
   "source": [
    "First things first, let's take the simplest model specification and plot what the best-fit line would look like, on top of a scatterplot of Median Effective Tax Rate vs. % Black"
   ]
  },
  {
   "cell_type": "code",
   "execution_count": 429,
   "metadata": {
    "ExecuteTime": {
     "end_time": "2020-02-17T20:32:01.433279Z",
     "start_time": "2020-02-17T20:32:01.136935Z"
    }
   },
   "outputs": [
    {
     "data": {
      "text/plain": [
       "<matplotlib.axes._subplots.AxesSubplot at 0x1fda96150f0>"
      ]
     },
     "execution_count": 429,
     "metadata": {},
     "output_type": "execute_result"
    },
    {
     "data": {
      "image/png": "[encoded data removed]",
      "text/plain": [
       "<Figure size 432x288 with 1 Axes>"
      ]
     },
     "metadata": {
      "needs_background": "light"
     },
     "output_type": "display_data"
    }
   ],
   "source": [
    "import seaborn as sns\n",
    "black_regplot = sns.regplot(x='black_pop_pct', y='median_etr', data=nta_merged_df)\n",
    "black_regplot.set_title(\"Neighborhood Effective Tax Rates\")\n",
    "black_regplot.set_xlabel(\"% Black\")\n",
    "black_regplot.set_ylabel(\"Effective Tax Rate (%)\")\n",
    "black_regplot"
   ]
  },
  {
   "cell_type": "markdown",
   "metadata": {},
   "source": [
    "Just to check for other associations between our vars, let's make a categorical variable representing whether or not the neighborhood is above or below the median neighborhood size (by number of people), and include this var as the color of each point in the plot:"
   ]
  },
  {
   "cell_type": "code",
   "execution_count": 430,
   "metadata": {
    "ExecuteTime": {
     "end_time": "2020-02-17T20:43:30.476040Z",
     "start_time": "2020-02-17T20:43:30.460907Z"
    }
   },
   "outputs": [],
   "source": [
    "nta_merged_df[\"high_pop\"] = nta_merged_df[\"pop_total\"] > nta_merged_df[\"pop_total\"].median()"
   ]
  },
  {
   "cell_type": "code",
   "execution_count": 435,
   "metadata": {
    "ExecuteTime": {
     "end_time": "2020-02-17T20:48:25.844602Z",
     "start_time": "2020-02-17T20:48:25.359972Z"
    }
   },
   "outputs": [
    {
     "data": {
      "text/plain": [
       "<seaborn.axisgrid.FacetGrid at 0x1fda97500b8>"
      ]
     },
     "execution_count": 435,
     "metadata": {},
     "output_type": "execute_result"
    },
    {
     "data": {
      "image/png": "[encoded data removed]",
      "text/plain": [
       "<Figure size 422.125x360 with 1 Axes>"
      ]
     },
     "metadata": {
      "needs_background": "light"
     },
     "output_type": "display_data"
    }
   ],
   "source": [
    "import seaborn as sns\n",
    "black_regplot = sns.lmplot(x='black_pop_pct', y='median_etr', hue=\"high_pop\", data=nta_merged_df)\n",
    "#black_regplot.set_title(\"Neighborhood Effective Tax Rates\")\n",
    "#black_regplot.set_xlabel(\"% Black\")\n",
    "#black_regplot.set_ylabel(\"Effective Tax Rate (%)\")\n",
    "black_regplot"
   ]
  },
  {
   "cell_type": "markdown",
   "metadata": {},
   "source": [
    "It looks like maybe `black_pop_pct` values are overly skewed towards zero. Let's plot a histogram to see:"
   ]
  },
  {
   "cell_type": "code",
   "execution_count": 440,
   "metadata": {
    "ExecuteTime": {
     "end_time": "2020-02-17T20:51:24.378468Z",
     "start_time": "2020-02-17T20:51:24.237643Z"
    }
   },
   "outputs": [
    {
     "data": {
      "text/plain": [
       "<matplotlib.axes._subplots.AxesSubplot at 0x1fda98b4a58>"
      ]
     },
     "execution_count": 440,
     "metadata": {},
     "output_type": "execute_result"
    },
    {
     "data": {
      "image/png": "[encoded data removed]",
      "text/plain": [
       "<Figure size 432x288 with 1 Axes>"
      ]
     },
     "metadata": {
      "needs_background": "light"
     },
     "output_type": "display_data"
    }
   ],
   "source": [
    "sns.distplot(nta_merged_df[\"black_pop_pct\"], rug=True, kde=False)"
   ]
  },
  {
   "cell_type": "markdown",
   "metadata": {},
   "source": [
    "Definitely skewed -- to try and \"even it out\", let's see what the distribution of the *log* of `black_pop_pct` would look like:"
   ]
  },
  {
   "cell_type": "code",
   "execution_count": 442,
   "metadata": {
    "ExecuteTime": {
     "end_time": "2020-02-17T20:52:18.030179Z",
     "start_time": "2020-02-17T20:52:17.874449Z"
    }
   },
   "outputs": [
    {
     "data": {
      "text/plain": [
       "<matplotlib.axes._subplots.AxesSubplot at 0x1fda99d7e10>"
      ]
     },
     "execution_count": 442,
     "metadata": {},
     "output_type": "execute_result"
    },
    {
     "data": {
      "image/png": "[encoded data removed]",
      "text/plain": [
       "<Figure size 432x288 with 1 Axes>"
      ]
     },
     "metadata": {
      "needs_background": "light"
     },
     "output_type": "display_data"
    }
   ],
   "source": [
    "sns.distplot(np.log(nta_merged_df[\"black_pop_pct\"]), rug=True, kde=False)"
   ]
  },
  {
   "cell_type": "markdown",
   "metadata": {},
   "source": [
    "It seems much more evenly-distributed, which will help us estimate things more clearly, so let's make a `log_black_pop_pct` variable and re-do the regression line plot using that variable:"
   ]
  },
  {
   "cell_type": "code",
   "execution_count": 445,
   "metadata": {
    "ExecuteTime": {
     "end_time": "2020-02-17T20:54:18.325779Z",
     "start_time": "2020-02-17T20:54:18.294993Z"
    }
   },
   "outputs": [],
   "source": [
    "nta_merged_df[\"log_black_pop_pct\"] = nta_merged_df[\"black_pop_pct\"].apply(np.log)"
   ]
  },
  {
   "cell_type": "code",
   "execution_count": 446,
   "metadata": {
    "ExecuteTime": {
     "end_time": "2020-02-17T20:54:20.014099Z",
     "start_time": "2020-02-17T20:54:19.716912Z"
    }
   },
   "outputs": [
    {
     "data": {
      "text/plain": [
       "<seaborn.axisgrid.FacetGrid at 0x1fda9a6a8d0>"
      ]
     },
     "execution_count": 446,
     "metadata": {},
     "output_type": "execute_result"
    },
    {
     "data": {
      "image/png": "[encoded data removed]",
      "text/plain": [
       "<Figure size 360x360 with 1 Axes>"
      ]
     },
     "metadata": {
      "needs_background": "light"
     },
     "output_type": "display_data"
    }
   ],
   "source": [
    "sns.lmplot(x=\"log_black_pop_pct\",y=\"median_etr\",data=nta_merged_df)"
   ]
  },
  {
   "cell_type": "markdown",
   "metadata": {},
   "source": [
    "Still looks like there's no relationship, but let's differentiate the points by neighborhood size again:"
   ]
  },
  {
   "cell_type": "code",
   "execution_count": 447,
   "metadata": {
    "ExecuteTime": {
     "end_time": "2020-02-17T20:55:36.339917Z",
     "start_time": "2020-02-17T20:55:35.839156Z"
    }
   },
   "outputs": [
    {
     "data": {
      "text/plain": [
       "<seaborn.axisgrid.FacetGrid at 0x1fda9ad7940>"
      ]
     },
     "execution_count": 447,
     "metadata": {},
     "output_type": "execute_result"
    },
    {
     "data": {
      "image/png": "[encoded data removed]",
      "text/plain": [
       "<Figure size 422.125x360 with 1 Axes>"
      ]
     },
     "metadata": {
      "needs_background": "light"
     },
     "output_type": "display_data"
    }
   ],
   "source": [
    "sns.lmplot(x=\"log_black_pop_pct\",y=\"median_etr\",hue=\"high_pop\", data=nta_merged_df)"
   ]
  },
  {
   "cell_type": "markdown",
   "metadata": {},
   "source": [
    "Now that we see what's happening, visually, let's try to refute the intuitions we've derived from these plots by using the `statsmodels` package to actually run the regressions:"
   ]
  },
  {
   "cell_type": "code",
   "execution_count": 448,
   "metadata": {
    "ExecuteTime": {
     "end_time": "2020-02-17T20:56:51.694622Z",
     "start_time": "2020-02-17T20:56:51.679487Z"
    }
   },
   "outputs": [],
   "source": [
    "import statsmodels.formula.api as smf"
   ]
  },
  {
   "cell_type": "code",
   "execution_count": 451,
   "metadata": {
    "ExecuteTime": {
     "end_time": "2020-02-17T20:57:14.186259Z",
     "start_time": "2020-02-17T20:57:14.154973Z"
    }
   },
   "outputs": [],
   "source": [
    "etr_on_blpop = smf.ols('median_etr ~ black_pop_pct', data=nta_merged_df).fit()"
   ]
  },
  {
   "cell_type": "code",
   "execution_count": 452,
   "metadata": {
    "ExecuteTime": {
     "end_time": "2020-02-17T20:57:21.235418Z",
     "start_time": "2020-02-17T20:57:21.204170Z"
    }
   },
   "outputs": [
    {
     "data": {
      "text/html": [
       "<table class=\"simpletable\">\n",
       "<caption>OLS Regression Results</caption>\n",
       "<tr>\n",
       "  <th>Dep. Variable:</th>       <td>median_etr</td>    <th>  R-squared:         </th> <td>   0.005</td>\n",
       "</tr>\n",
       "<tr>\n",
       "  <th>Model:</th>                   <td>OLS</td>       <th>  Adj. R-squared:    </th> <td>  -0.000</td>\n",
       "</tr>\n",
       "<tr>\n",
       "  <th>Method:</th>             <td>Least Squares</td>  <th>  F-statistic:       </th> <td>  0.9975</td>\n",
       "</tr>\n",
       "<tr>\n",
       "  <th>Date:</th>             <td>Mon, 17 Feb 2020</td> <th>  Prob (F-statistic):</th>  <td> 0.319</td> \n",
       "</tr>\n",
       "<tr>\n",
       "  <th>Time:</th>                 <td>15:57:21</td>     <th>  Log-Likelihood:    </th> <td> -11.830</td>\n",
       "</tr>\n",
       "<tr>\n",
       "  <th>No. Observations:</th>      <td>   186</td>      <th>  AIC:               </th> <td>   27.66</td>\n",
       "</tr>\n",
       "<tr>\n",
       "  <th>Df Residuals:</th>          <td>   184</td>      <th>  BIC:               </th> <td>   34.11</td>\n",
       "</tr>\n",
       "<tr>\n",
       "  <th>Df Model:</th>              <td>     1</td>      <th>                     </th>     <td> </td>   \n",
       "</tr>\n",
       "<tr>\n",
       "  <th>Covariance Type:</th>      <td>nonrobust</td>    <th>                     </th>     <td> </td>   \n",
       "</tr>\n",
       "</table>\n",
       "<table class=\"simpletable\">\n",
       "<tr>\n",
       "        <td></td>           <th>coef</th>     <th>std err</th>      <th>t</th>      <th>P>|t|</th>  <th>[0.025</th>    <th>0.975]</th>  \n",
       "</tr>\n",
       "<tr>\n",
       "  <th>Intercept</th>     <td>    0.7463</td> <td>    0.025</td> <td>   29.741</td> <td> 0.000</td> <td>    0.697</td> <td>    0.796</td>\n",
       "</tr>\n",
       "<tr>\n",
       "  <th>black_pop_pct</th> <td>    0.0008</td> <td>    0.001</td> <td>    0.999</td> <td> 0.319</td> <td>   -0.001</td> <td>    0.002</td>\n",
       "</tr>\n",
       "</table>\n",
       "<table class=\"simpletable\">\n",
       "<tr>\n",
       "  <th>Omnibus:</th>       <td>17.832</td> <th>  Durbin-Watson:     </th> <td>   0.514</td>\n",
       "</tr>\n",
       "<tr>\n",
       "  <th>Prob(Omnibus):</th> <td> 0.000</td> <th>  Jarque-Bera (JB):  </th> <td>  15.722</td>\n",
       "</tr>\n",
       "<tr>\n",
       "  <th>Skew:</th>          <td>-0.632</td> <th>  Prob(JB):          </th> <td>0.000386</td>\n",
       "</tr>\n",
       "<tr>\n",
       "  <th>Kurtosis:</th>      <td> 2.345</td> <th>  Cond. No.          </th> <td>    43.5</td>\n",
       "</tr>\n",
       "</table><br/><br/>Warnings:<br/>[1] Standard Errors assume that the covariance matrix of the errors is correctly specified."
      ],
      "text/plain": [
       "<class 'statsmodels.iolib.summary.Summary'>\n",
       "\"\"\"\n",
       "                            OLS Regression Results                            \n",
       "==============================================================================\n",
       "Dep. Variable:             median_etr   R-squared:                       0.005\n",
       "Model:                            OLS   Adj. R-squared:                 -0.000\n",
       "Method:                 Least Squares   F-statistic:                    0.9975\n",
       "Date:                Mon, 17 Feb 2020   Prob (F-statistic):              0.319\n",
       "Time:                        15:57:21   Log-Likelihood:                -11.830\n",
       "No. Observations:                 186   AIC:                             27.66\n",
       "Df Residuals:                     184   BIC:                             34.11\n",
       "Df Model:                           1                                         \n",
       "Covariance Type:            nonrobust                                         \n",
       "=================================================================================\n",
       "                    coef    std err          t      P>|t|      [0.025      0.975]\n",
       "---------------------------------------------------------------------------------\n",
       "Intercept         0.7463      0.025     29.741      0.000       0.697       0.796\n",
       "black_pop_pct     0.0008      0.001      0.999      0.319      -0.001       0.002\n",
       "==============================================================================\n",
       "Omnibus:                       17.832   Durbin-Watson:                   0.514\n",
       "Prob(Omnibus):                  0.000   Jarque-Bera (JB):               15.722\n",
       "Skew:                          -0.632   Prob(JB):                     0.000386\n",
       "Kurtosis:                       2.345   Cond. No.                         43.5\n",
       "==============================================================================\n",
       "\n",
       "Warnings:\n",
       "[1] Standard Errors assume that the covariance matrix of the errors is correctly specified.\n",
       "\"\"\""
      ]
     },
     "execution_count": 452,
     "metadata": {},
     "output_type": "execute_result"
    }
   ],
   "source": [
    "etr_on_blpop.summary()"
   ]
  },
  {
   "cell_type": "markdown",
   "metadata": {},
   "source": [
    "So, we observe a $p$-value of $0.319$ for the null hypothesis that $\\beta_{\\text{black_pop}} = 0$, thus we fail to reject this null hypothesis."
   ]
  },
  {
   "cell_type": "markdown",
   "metadata": {},
   "source": [
    "But what about our other subsequent hypothesis, that maybe if we look at large and small neighborhoods separately we'll see a relationship? Even though we binned the neighborhood sizes into just \"big\" and \"small\" bins for our earlier visualization, regression analysis is fancy enough to be able to handle controlling for other non-categorical variables, so let's just include the full `pop_total` variable in our set of control variables:"
   ]
  },
  {
   "cell_type": "code",
   "execution_count": 453,
   "metadata": {
    "ExecuteTime": {
     "end_time": "2020-02-17T21:03:39.299262Z",
     "start_time": "2020-02-17T21:03:39.267609Z"
    }
   },
   "outputs": [],
   "source": [
    "etr_blpop_totalpop = smf.ols('median_etr ~ black_pop_pct + pop_total', data=nta_merged_df).fit()"
   ]
  },
  {
   "cell_type": "code",
   "execution_count": 455,
   "metadata": {
    "ExecuteTime": {
     "end_time": "2020-02-17T21:03:52.162784Z",
     "start_time": "2020-02-17T21:03:52.131542Z"
    }
   },
   "outputs": [
    {
     "data": {
      "text/html": [
       "<table class=\"simpletable\">\n",
       "<caption>OLS Regression Results</caption>\n",
       "<tr>\n",
       "  <th>Dep. Variable:</th>       <td>median_etr</td>    <th>  R-squared:         </th> <td>   0.145</td>\n",
       "</tr>\n",
       "<tr>\n",
       "  <th>Model:</th>                   <td>OLS</td>       <th>  Adj. R-squared:    </th> <td>   0.135</td>\n",
       "</tr>\n",
       "<tr>\n",
       "  <th>Method:</th>             <td>Least Squares</td>  <th>  F-statistic:       </th> <td>   15.48</td>\n",
       "</tr>\n",
       "<tr>\n",
       "  <th>Date:</th>             <td>Mon, 17 Feb 2020</td> <th>  Prob (F-statistic):</th> <td>6.13e-07</td>\n",
       "</tr>\n",
       "<tr>\n",
       "  <th>Time:</th>                 <td>16:03:52</td>     <th>  Log-Likelihood:    </th> <td>  2.2071</td>\n",
       "</tr>\n",
       "<tr>\n",
       "  <th>No. Observations:</th>      <td>   186</td>      <th>  AIC:               </th> <td>   1.586</td>\n",
       "</tr>\n",
       "<tr>\n",
       "  <th>Df Residuals:</th>          <td>   183</td>      <th>  BIC:               </th> <td>   11.26</td>\n",
       "</tr>\n",
       "<tr>\n",
       "  <th>Df Model:</th>              <td>     2</td>      <th>                     </th>     <td> </td>   \n",
       "</tr>\n",
       "<tr>\n",
       "  <th>Covariance Type:</th>      <td>nonrobust</td>    <th>                     </th>     <td> </td>   \n",
       "</tr>\n",
       "</table>\n",
       "<table class=\"simpletable\">\n",
       "<tr>\n",
       "        <td></td>           <th>coef</th>     <th>std err</th>      <th>t</th>      <th>P>|t|</th>  <th>[0.025</th>    <th>0.975]</th>  \n",
       "</tr>\n",
       "<tr>\n",
       "  <th>Intercept</th>     <td>    0.9431</td> <td>    0.043</td> <td>   21.965</td> <td> 0.000</td> <td>    0.858</td> <td>    1.028</td>\n",
       "</tr>\n",
       "<tr>\n",
       "  <th>black_pop_pct</th> <td>    0.0009</td> <td>    0.001</td> <td>    1.327</td> <td> 0.186</td> <td>   -0.000</td> <td>    0.002</td>\n",
       "</tr>\n",
       "<tr>\n",
       "  <th>pop_total</th>     <td>-4.386e-06</td> <td> 8.03e-07</td> <td>   -5.460</td> <td> 0.000</td> <td>-5.97e-06</td> <td> -2.8e-06</td>\n",
       "</tr>\n",
       "</table>\n",
       "<table class=\"simpletable\">\n",
       "<tr>\n",
       "  <th>Omnibus:</th>       <td>16.044</td> <th>  Durbin-Watson:     </th> <td>   0.825</td>\n",
       "</tr>\n",
       "<tr>\n",
       "  <th>Prob(Omnibus):</th> <td> 0.000</td> <th>  Jarque-Bera (JB):  </th> <td>  18.355</td>\n",
       "</tr>\n",
       "<tr>\n",
       "  <th>Skew:</th>          <td>-0.756</td> <th>  Prob(JB):          </th> <td>0.000103</td>\n",
       "</tr>\n",
       "<tr>\n",
       "  <th>Kurtosis:</th>      <td> 2.718</td> <th>  Cond. No.          </th> <td>1.23e+05</td>\n",
       "</tr>\n",
       "</table><br/><br/>Warnings:<br/>[1] Standard Errors assume that the covariance matrix of the errors is correctly specified.<br/>[2] The condition number is large, 1.23e+05. This might indicate that there are<br/>strong multicollinearity or other numerical problems."
      ],
      "text/plain": [
       "<class 'statsmodels.iolib.summary.Summary'>\n",
       "\"\"\"\n",
       "                            OLS Regression Results                            \n",
       "==============================================================================\n",
       "Dep. Variable:             median_etr   R-squared:                       0.145\n",
       "Model:                            OLS   Adj. R-squared:                  0.135\n",
       "Method:                 Least Squares   F-statistic:                     15.48\n",
       "Date:                Mon, 17 Feb 2020   Prob (F-statistic):           6.13e-07\n",
       "Time:                        16:03:52   Log-Likelihood:                 2.2071\n",
       "No. Observations:                 186   AIC:                             1.586\n",
       "Df Residuals:                     183   BIC:                             11.26\n",
       "Df Model:                           2                                         \n",
       "Covariance Type:            nonrobust                                         \n",
       "=================================================================================\n",
       "                    coef    std err          t      P>|t|      [0.025      0.975]\n",
       "---------------------------------------------------------------------------------\n",
       "Intercept         0.9431      0.043     21.965      0.000       0.858       1.028\n",
       "black_pop_pct     0.0009      0.001      1.327      0.186      -0.000       0.002\n",
       "pop_total     -4.386e-06   8.03e-07     -5.460      0.000   -5.97e-06    -2.8e-06\n",
       "==============================================================================\n",
       "Omnibus:                       16.044   Durbin-Watson:                   0.825\n",
       "Prob(Omnibus):                  0.000   Jarque-Bera (JB):               18.355\n",
       "Skew:                          -0.756   Prob(JB):                     0.000103\n",
       "Kurtosis:                       2.718   Cond. No.                     1.23e+05\n",
       "==============================================================================\n",
       "\n",
       "Warnings:\n",
       "[1] Standard Errors assume that the covariance matrix of the errors is correctly specified.\n",
       "[2] The condition number is large, 1.23e+05. This might indicate that there are\n",
       "strong multicollinearity or other numerical problems.\n",
       "\"\"\""
      ]
     },
     "execution_count": 455,
     "metadata": {},
     "output_type": "execute_result"
    }
   ],
   "source": [
    "etr_blpop_totalpop.summary()"
   ]
  },
  {
   "cell_type": "markdown",
   "metadata": {},
   "source": [
    "The coefficient on `black_pop_pct` is still not significant, given its $p$-value of $0.186$. As a last test, let's also include the median *market value* of the neighborhood's properties as a control. In this case, though, I suspect that variable will be very skewed (some neighborhoods will have absurdly high median market values), so let's check the distribution first:"
   ]
  },
  {
   "cell_type": "code",
   "execution_count": 457,
   "metadata": {
    "ExecuteTime": {
     "end_time": "2020-02-17T21:06:15.818649Z",
     "start_time": "2020-02-17T21:06:15.615357Z"
    }
   },
   "outputs": [
    {
     "data": {
      "text/plain": [
       "<matplotlib.axes._subplots.AxesSubplot at 0x1fda9c44c18>"
      ]
     },
     "execution_count": 457,
     "metadata": {},
     "output_type": "execute_result"
    },
    {
     "data": {
      "image/png": "[encoded data removed]",
      "text/plain": [
       "<Figure size 432x288 with 1 Axes>"
      ]
     },
     "metadata": {
      "needs_background": "light"
     },
     "output_type": "display_data"
    }
   ],
   "source": [
    "sns.distplot(nta_merged_df[\"median_mv\"], rug=True, kde=False)"
   ]
  },
  {
   "cell_type": "markdown",
   "metadata": {},
   "source": [
    "And indeed, we see a huge cluster between \\\\$0 and ~\\\\$150k, then a much smaller number of neighborhoods with median market values above \\\\$150k. So let's take the log of this variable:"
   ]
  },
  {
   "cell_type": "code",
   "execution_count": 458,
   "metadata": {
    "ExecuteTime": {
     "end_time": "2020-02-17T21:08:38.362184Z",
     "start_time": "2020-02-17T21:08:38.330964Z"
    }
   },
   "outputs": [],
   "source": [
    "nta_merged_df[\"log_median_mv\"] = nta_merged_df[\"median_mv\"].apply(np.log)"
   ]
  },
  {
   "cell_type": "code",
   "execution_count": 459,
   "metadata": {
    "ExecuteTime": {
     "end_time": "2020-02-17T21:08:48.116710Z",
     "start_time": "2020-02-17T21:08:47.945344Z"
    }
   },
   "outputs": [
    {
     "data": {
      "text/plain": [
       "<matplotlib.axes._subplots.AxesSubplot at 0x1fda970abe0>"
      ]
     },
     "execution_count": 459,
     "metadata": {},
     "output_type": "execute_result"
    },
    {
     "data": {
      "image/png": "[encoded data removed]",
      "text/plain": [
       "<Figure size 432x288 with 1 Axes>"
      ]
     },
     "metadata": {
      "needs_background": "light"
     },
     "output_type": "display_data"
    }
   ],
   "source": [
    "sns.distplot(nta_merged_df[\"log_median_mv\"], rug=True, kde=False)"
   ]
  },
  {
   "cell_type": "markdown",
   "metadata": {},
   "source": [
    "It's still a bit skewed, but much better than before. So now let's add this logged variable in our regression (in addition to `black_pop_pct` and `pop_total`) and see what we get:"
   ]
  },
  {
   "cell_type": "code",
   "execution_count": 462,
   "metadata": {
    "ExecuteTime": {
     "end_time": "2020-02-17T21:11:07.277557Z",
     "start_time": "2020-02-17T21:11:07.231185Z"
    }
   },
   "outputs": [
    {
     "data": {
      "text/html": [
       "<table class=\"simpletable\">\n",
       "<caption>OLS Regression Results</caption>\n",
       "<tr>\n",
       "  <th>Dep. Variable:</th>       <td>median_etr</td>    <th>  R-squared:         </th> <td>   0.492</td>\n",
       "</tr>\n",
       "<tr>\n",
       "  <th>Model:</th>                   <td>OLS</td>       <th>  Adj. R-squared:    </th> <td>   0.483</td>\n",
       "</tr>\n",
       "<tr>\n",
       "  <th>Method:</th>             <td>Least Squares</td>  <th>  F-statistic:       </th> <td>   58.66</td>\n",
       "</tr>\n",
       "<tr>\n",
       "  <th>Date:</th>             <td>Mon, 17 Feb 2020</td> <th>  Prob (F-statistic):</th> <td>1.40e-26</td>\n",
       "</tr>\n",
       "<tr>\n",
       "  <th>Time:</th>                 <td>16:11:07</td>     <th>  Log-Likelihood:    </th> <td>  50.582</td>\n",
       "</tr>\n",
       "<tr>\n",
       "  <th>No. Observations:</th>      <td>   186</td>      <th>  AIC:               </th> <td>  -93.16</td>\n",
       "</tr>\n",
       "<tr>\n",
       "  <th>Df Residuals:</th>          <td>   182</td>      <th>  BIC:               </th> <td>  -80.26</td>\n",
       "</tr>\n",
       "<tr>\n",
       "  <th>Df Model:</th>              <td>     3</td>      <th>                     </th>     <td> </td>   \n",
       "</tr>\n",
       "<tr>\n",
       "  <th>Covariance Type:</th>      <td>nonrobust</td>    <th>                     </th>     <td> </td>   \n",
       "</tr>\n",
       "</table>\n",
       "<table class=\"simpletable\">\n",
       "<tr>\n",
       "        <td></td>           <th>coef</th>     <th>std err</th>      <th>t</th>      <th>P>|t|</th>  <th>[0.025</th>    <th>0.975]</th>  \n",
       "</tr>\n",
       "<tr>\n",
       "  <th>Intercept</th>     <td>    3.8476</td> <td>    0.263</td> <td>   14.643</td> <td> 0.000</td> <td>    3.329</td> <td>    4.366</td>\n",
       "</tr>\n",
       "<tr>\n",
       "  <th>black_pop_pct</th> <td>   -0.0014</td> <td>    0.001</td> <td>   -2.404</td> <td> 0.017</td> <td>   -0.003</td> <td>   -0.000</td>\n",
       "</tr>\n",
       "<tr>\n",
       "  <th>pop_total</th>     <td>-1.955e-06</td> <td> 6.58e-07</td> <td>   -2.970</td> <td> 0.003</td> <td>-3.25e-06</td> <td>-6.56e-07</td>\n",
       "</tr>\n",
       "<tr>\n",
       "  <th>log_median_mv</th> <td>   -0.2153</td> <td>    0.019</td> <td>  -11.143</td> <td> 0.000</td> <td>   -0.253</td> <td>   -0.177</td>\n",
       "</tr>\n",
       "</table>\n",
       "<table class=\"simpletable\">\n",
       "<tr>\n",
       "  <th>Omnibus:</th>       <td> 0.967</td> <th>  Durbin-Watson:     </th> <td>   1.128</td>\n",
       "</tr>\n",
       "<tr>\n",
       "  <th>Prob(Omnibus):</th> <td> 0.617</td> <th>  Jarque-Bera (JB):  </th> <td>   0.926</td>\n",
       "</tr>\n",
       "<tr>\n",
       "  <th>Skew:</th>          <td>-0.171</td> <th>  Prob(JB):          </th> <td>   0.629</td>\n",
       "</tr>\n",
       "<tr>\n",
       "  <th>Kurtosis:</th>      <td> 2.947</td> <th>  Cond. No.          </th> <td>9.79e+05</td>\n",
       "</tr>\n",
       "</table><br/><br/>Warnings:<br/>[1] Standard Errors assume that the covariance matrix of the errors is correctly specified.<br/>[2] The condition number is large, 9.79e+05. This might indicate that there are<br/>strong multicollinearity or other numerical problems."
      ],
      "text/plain": [
       "<class 'statsmodels.iolib.summary.Summary'>\n",
       "\"\"\"\n",
       "                            OLS Regression Results                            \n",
       "==============================================================================\n",
       "Dep. Variable:             median_etr   R-squared:                       0.492\n",
       "Model:                            OLS   Adj. R-squared:                  0.483\n",
       "Method:                 Least Squares   F-statistic:                     58.66\n",
       "Date:                Mon, 17 Feb 2020   Prob (F-statistic):           1.40e-26\n",
       "Time:                        16:11:07   Log-Likelihood:                 50.582\n",
       "No. Observations:                 186   AIC:                            -93.16\n",
       "Df Residuals:                     182   BIC:                            -80.26\n",
       "Df Model:                           3                                         \n",
       "Covariance Type:            nonrobust                                         \n",
       "=================================================================================\n",
       "                    coef    std err          t      P>|t|      [0.025      0.975]\n",
       "---------------------------------------------------------------------------------\n",
       "Intercept         3.8476      0.263     14.643      0.000       3.329       4.366\n",
       "black_pop_pct    -0.0014      0.001     -2.404      0.017      -0.003      -0.000\n",
       "pop_total     -1.955e-06   6.58e-07     -2.970      0.003   -3.25e-06   -6.56e-07\n",
       "log_median_mv    -0.2153      0.019    -11.143      0.000      -0.253      -0.177\n",
       "==============================================================================\n",
       "Omnibus:                        0.967   Durbin-Watson:                   1.128\n",
       "Prob(Omnibus):                  0.617   Jarque-Bera (JB):                0.926\n",
       "Skew:                          -0.171   Prob(JB):                        0.629\n",
       "Kurtosis:                       2.947   Cond. No.                     9.79e+05\n",
       "==============================================================================\n",
       "\n",
       "Warnings:\n",
       "[1] Standard Errors assume that the covariance matrix of the errors is correctly specified.\n",
       "[2] The condition number is large, 9.79e+05. This might indicate that there are\n",
       "strong multicollinearity or other numerical problems.\n",
       "\"\"\""
      ]
     },
     "execution_count": 462,
     "metadata": {},
     "output_type": "execute_result"
    }
   ],
   "source": [
    "etr_blpop_tot_mv = smf.ols('median_etr ~ black_pop_pct + pop_total + log_median_mv', data=nta_merged_df).fit()\n",
    "etr_blpop_tot_mv.summary()"
   ]
  },
  {
   "cell_type": "markdown",
   "metadata": {},
   "source": [
    "And thus we get the only \"finding\" of our study so far, the somewhat surprising finding (given the articles we looked at earlier) that an increase of 1 percentage point in the black population percentage of a neighborhood is associated with a 0.14 percentage point *decrease* in the effective tax rate paid by residents of the neighborhood."
   ]
  },
  {
   "cell_type": "markdown",
   "metadata": {},
   "source": [
    "# Conclusions"
   ]
  },
  {
   "cell_type": "markdown",
   "metadata": {},
   "source": [
    "Before we go and complain to the news outlets and organizations mentioned in the beginning, we need to think about the (at least) two HUGE caveats hanging over this analysis:\n",
    "\n",
    "1. Effective Tax Rate data is essentially impossible to calculate for any properties besides those classified as Class 1 Properties for tax purposes. This means that basically this entire analysis only applies to buildings with 3 or fewer families living in them, so basically think small brownstone houses rather than large apartment buildings/condos/housing projects/etc... So when reading through the above articles, look closely at the people they're interviewing or the way they're calculating the tax burdens, and you'll see that their findings don't necessarily (or at all) contradict our findings here.\n",
    "2. A Neighborhood Tabulation Area is just one of infinitely-many possible ways we could have aggregated/grouped/analyzed our data here. For example, if you look at the full set of variables (or sheets, in the case of the demographics data), you'll see that we could just as well have performed this analysis by PUMA rather than NTA, and perhaps if we had done so we would have obtained wildly different results. I leave that as an excersise to you, dear reader."
   ]
  },
  {
   "cell_type": "code",
   "execution_count": null,
   "metadata": {},
   "outputs": [],
   "source": []
  }
 ],
 "metadata": {
  "kernelspec": {
   "display_name": "Python 3",
   "language": "python",
   "name": "python3"
  },
  "language_info": {
   "codemirror_mode": {
    "name": "ipython",
    "version": 3
   },
   "file_extension": ".py",
   "mimetype": "text/x-python",
   "name": "python",
   "nbconvert_exporter": "python",
   "pygments_lexer": "ipython3",
   "version": "3.7.3"
  },
  "latex_envs": {
   "LaTeX_envs_menu_present": true,
   "autoclose": false,
   "autocomplete": true,
   "bibliofile": "biblio.bib",
   "cite_by": "apalike",
   "current_citInitial": 1,
   "eqLabelWithNumbers": true,
   "eqNumInitial": 1,
   "hotkeys": {
    "equation": "Ctrl-E",
    "itemize": "Ctrl-I"
   },
   "labels_anchors": false,
   "latex_user_defs": false,
   "report_style_numbering": false,
   "user_envs_cfg": false
  },
  "toc": {
   "base_numbering": 1,
   "nav_menu": {},
   "number_sections": false,
   "sideBar": true,
   "skip_h1_title": false,
   "title_cell": "Table of Contents",
   "title_sidebar": "Contents",
   "toc_cell": false,
   "toc_position": {
    "height": "calc(100% - 180px)",
    "left": "10px",
    "top": "150px",
    "width": "165px"
   },
   "toc_section_display": true,
   "toc_window_display": true
  },
  "varInspector": {
   "cols": {
    "lenName": 16,
    "lenType": 16,
    "lenVar": 40
   },
   "kernels_config": {
    "python": {
     "delete_cmd_postfix": "",
     "delete_cmd_prefix": "del ",
     "library": "var_list.py",
     "varRefreshCmd": "print(var_dic_list())"
    },
    "r": {
     "delete_cmd_postfix": ") ",
     "delete_cmd_prefix": "rm(",
     "library": "var_list.r",
     "varRefreshCmd": "cat(var_dic_list()) "
    }
   },
   "types_to_exclude": [
    "module",
    "function",
    "builtin_function_or_method",
    "instance",
    "_Feature"
   ],
   "window_display": false
  }
 },
 "nbformat": 4,
 "nbformat_minor": 4
}
